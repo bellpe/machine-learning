{
 "cells": [
  {
   "cell_type": "code",
   "execution_count": 1,
   "metadata": {},
   "outputs": [],
   "source": [
    "import numpy as np\n",
    "import pandas as pd\n",
    "import matplotlib.pyplot as plt\n",
    "from sklearn.datasets import load_boston # 보스턴 주택값 데이터"
   ]
  },
  {
   "cell_type": "code",
   "execution_count": 2,
   "metadata": {},
   "outputs": [],
   "source": [
    "boston =  load_boston()"
   ]
  },
  {
   "cell_type": "code",
   "execution_count": 3,
   "metadata": {},
   "outputs": [
    {
     "data": {
      "text/plain": [
       "{'data': array([[6.3200e-03, 1.8000e+01, 2.3100e+00, ..., 1.5300e+01, 3.9690e+02,\n",
       "         4.9800e+00],\n",
       "        [2.7310e-02, 0.0000e+00, 7.0700e+00, ..., 1.7800e+01, 3.9690e+02,\n",
       "         9.1400e+00],\n",
       "        [2.7290e-02, 0.0000e+00, 7.0700e+00, ..., 1.7800e+01, 3.9283e+02,\n",
       "         4.0300e+00],\n",
       "        ...,\n",
       "        [6.0760e-02, 0.0000e+00, 1.1930e+01, ..., 2.1000e+01, 3.9690e+02,\n",
       "         5.6400e+00],\n",
       "        [1.0959e-01, 0.0000e+00, 1.1930e+01, ..., 2.1000e+01, 3.9345e+02,\n",
       "         6.4800e+00],\n",
       "        [4.7410e-02, 0.0000e+00, 1.1930e+01, ..., 2.1000e+01, 3.9690e+02,\n",
       "         7.8800e+00]]),\n",
       " 'target': array([24. , 21.6, 34.7, 33.4, 36.2, 28.7, 22.9, 27.1, 16.5, 18.9, 15. ,\n",
       "        18.9, 21.7, 20.4, 18.2, 19.9, 23.1, 17.5, 20.2, 18.2, 13.6, 19.6,\n",
       "        15.2, 14.5, 15.6, 13.9, 16.6, 14.8, 18.4, 21. , 12.7, 14.5, 13.2,\n",
       "        13.1, 13.5, 18.9, 20. , 21. , 24.7, 30.8, 34.9, 26.6, 25.3, 24.7,\n",
       "        21.2, 19.3, 20. , 16.6, 14.4, 19.4, 19.7, 20.5, 25. , 23.4, 18.9,\n",
       "        35.4, 24.7, 31.6, 23.3, 19.6, 18.7, 16. , 22.2, 25. , 33. , 23.5,\n",
       "        19.4, 22. , 17.4, 20.9, 24.2, 21.7, 22.8, 23.4, 24.1, 21.4, 20. ,\n",
       "        20.8, 21.2, 20.3, 28. , 23.9, 24.8, 22.9, 23.9, 26.6, 22.5, 22.2,\n",
       "        23.6, 28.7, 22.6, 22. , 22.9, 25. , 20.6, 28.4, 21.4, 38.7, 43.8,\n",
       "        33.2, 27.5, 26.5, 18.6, 19.3, 20.1, 19.5, 19.5, 20.4, 19.8, 19.4,\n",
       "        21.7, 22.8, 18.8, 18.7, 18.5, 18.3, 21.2, 19.2, 20.4, 19.3, 22. ,\n",
       "        20.3, 20.5, 17.3, 18.8, 21.4, 15.7, 16.2, 18. , 14.3, 19.2, 19.6,\n",
       "        23. , 18.4, 15.6, 18.1, 17.4, 17.1, 13.3, 17.8, 14. , 14.4, 13.4,\n",
       "        15.6, 11.8, 13.8, 15.6, 14.6, 17.8, 15.4, 21.5, 19.6, 15.3, 19.4,\n",
       "        17. , 15.6, 13.1, 41.3, 24.3, 23.3, 27. , 50. , 50. , 50. , 22.7,\n",
       "        25. , 50. , 23.8, 23.8, 22.3, 17.4, 19.1, 23.1, 23.6, 22.6, 29.4,\n",
       "        23.2, 24.6, 29.9, 37.2, 39.8, 36.2, 37.9, 32.5, 26.4, 29.6, 50. ,\n",
       "        32. , 29.8, 34.9, 37. , 30.5, 36.4, 31.1, 29.1, 50. , 33.3, 30.3,\n",
       "        34.6, 34.9, 32.9, 24.1, 42.3, 48.5, 50. , 22.6, 24.4, 22.5, 24.4,\n",
       "        20. , 21.7, 19.3, 22.4, 28.1, 23.7, 25. , 23.3, 28.7, 21.5, 23. ,\n",
       "        26.7, 21.7, 27.5, 30.1, 44.8, 50. , 37.6, 31.6, 46.7, 31.5, 24.3,\n",
       "        31.7, 41.7, 48.3, 29. , 24. , 25.1, 31.5, 23.7, 23.3, 22. , 20.1,\n",
       "        22.2, 23.7, 17.6, 18.5, 24.3, 20.5, 24.5, 26.2, 24.4, 24.8, 29.6,\n",
       "        42.8, 21.9, 20.9, 44. , 50. , 36. , 30.1, 33.8, 43.1, 48.8, 31. ,\n",
       "        36.5, 22.8, 30.7, 50. , 43.5, 20.7, 21.1, 25.2, 24.4, 35.2, 32.4,\n",
       "        32. , 33.2, 33.1, 29.1, 35.1, 45.4, 35.4, 46. , 50. , 32.2, 22. ,\n",
       "        20.1, 23.2, 22.3, 24.8, 28.5, 37.3, 27.9, 23.9, 21.7, 28.6, 27.1,\n",
       "        20.3, 22.5, 29. , 24.8, 22. , 26.4, 33.1, 36.1, 28.4, 33.4, 28.2,\n",
       "        22.8, 20.3, 16.1, 22.1, 19.4, 21.6, 23.8, 16.2, 17.8, 19.8, 23.1,\n",
       "        21. , 23.8, 23.1, 20.4, 18.5, 25. , 24.6, 23. , 22.2, 19.3, 22.6,\n",
       "        19.8, 17.1, 19.4, 22.2, 20.7, 21.1, 19.5, 18.5, 20.6, 19. , 18.7,\n",
       "        32.7, 16.5, 23.9, 31.2, 17.5, 17.2, 23.1, 24.5, 26.6, 22.9, 24.1,\n",
       "        18.6, 30.1, 18.2, 20.6, 17.8, 21.7, 22.7, 22.6, 25. , 19.9, 20.8,\n",
       "        16.8, 21.9, 27.5, 21.9, 23.1, 50. , 50. , 50. , 50. , 50. , 13.8,\n",
       "        13.8, 15. , 13.9, 13.3, 13.1, 10.2, 10.4, 10.9, 11.3, 12.3,  8.8,\n",
       "         7.2, 10.5,  7.4, 10.2, 11.5, 15.1, 23.2,  9.7, 13.8, 12.7, 13.1,\n",
       "        12.5,  8.5,  5. ,  6.3,  5.6,  7.2, 12.1,  8.3,  8.5,  5. , 11.9,\n",
       "        27.9, 17.2, 27.5, 15. , 17.2, 17.9, 16.3,  7. ,  7.2,  7.5, 10.4,\n",
       "         8.8,  8.4, 16.7, 14.2, 20.8, 13.4, 11.7,  8.3, 10.2, 10.9, 11. ,\n",
       "         9.5, 14.5, 14.1, 16.1, 14.3, 11.7, 13.4,  9.6,  8.7,  8.4, 12.8,\n",
       "        10.5, 17.1, 18.4, 15.4, 10.8, 11.8, 14.9, 12.6, 14.1, 13. , 13.4,\n",
       "        15.2, 16.1, 17.8, 14.9, 14.1, 12.7, 13.5, 14.9, 20. , 16.4, 17.7,\n",
       "        19.5, 20.2, 21.4, 19.9, 19. , 19.1, 19.1, 20.1, 19.9, 19.6, 23.2,\n",
       "        29.8, 13.8, 13.3, 16.7, 12. , 14.6, 21.4, 23. , 23.7, 25. , 21.8,\n",
       "        20.6, 21.2, 19.1, 20.6, 15.2,  7. ,  8.1, 13.6, 20.1, 21.8, 24.5,\n",
       "        23.1, 19.7, 18.3, 21.2, 17.5, 16.8, 22.4, 20.6, 23.9, 22. , 11.9]),\n",
       " 'feature_names': array(['CRIM', 'ZN', 'INDUS', 'CHAS', 'NOX', 'RM', 'AGE', 'DIS', 'RAD',\n",
       "        'TAX', 'PTRATIO', 'B', 'LSTAT'], dtype='<U7'),\n",
       " 'DESCR': \".. _boston_dataset:\\n\\nBoston house prices dataset\\n---------------------------\\n\\n**Data Set Characteristics:**  \\n\\n    :Number of Instances: 506 \\n\\n    :Number of Attributes: 13 numeric/categorical predictive. Median Value (attribute 14) is usually the target.\\n\\n    :Attribute Information (in order):\\n        - CRIM     per capita crime rate by town\\n        - ZN       proportion of residential land zoned for lots over 25,000 sq.ft.\\n        - INDUS    proportion of non-retail business acres per town\\n        - CHAS     Charles River dummy variable (= 1 if tract bounds river; 0 otherwise)\\n        - NOX      nitric oxides concentration (parts per 10 million)\\n        - RM       average number of rooms per dwelling\\n        - AGE      proportion of owner-occupied units built prior to 1940\\n        - DIS      weighted distances to five Boston employment centres\\n        - RAD      index of accessibility to radial highways\\n        - TAX      full-value property-tax rate per $10,000\\n        - PTRATIO  pupil-teacher ratio by town\\n        - B        1000(Bk - 0.63)^2 where Bk is the proportion of black people by town\\n        - LSTAT    % lower status of the population\\n        - MEDV     Median value of owner-occupied homes in $1000's\\n\\n    :Missing Attribute Values: None\\n\\n    :Creator: Harrison, D. and Rubinfeld, D.L.\\n\\nThis is a copy of UCI ML housing dataset.\\nhttps://archive.ics.uci.edu/ml/machine-learning-databases/housing/\\n\\n\\nThis dataset was taken from the StatLib library which is maintained at Carnegie Mellon University.\\n\\nThe Boston house-price data of Harrison, D. and Rubinfeld, D.L. 'Hedonic\\nprices and the demand for clean air', J. Environ. Economics & Management,\\nvol.5, 81-102, 1978.   Used in Belsley, Kuh & Welsch, 'Regression diagnostics\\n...', Wiley, 1980.   N.B. Various transformations are used in the table on\\npages 244-261 of the latter.\\n\\nThe Boston house-price data has been used in many machine learning papers that address regression\\nproblems.   \\n     \\n.. topic:: References\\n\\n   - Belsley, Kuh & Welsch, 'Regression diagnostics: Identifying Influential Data and Sources of Collinearity', Wiley, 1980. 244-261.\\n   - Quinlan,R. (1993). Combining Instance-Based and Model-Based Learning. In Proceedings on the Tenth International Conference of Machine Learning, 236-243, University of Massachusetts, Amherst. Morgan Kaufmann.\\n\",\n",
       " 'filename': 'C:\\\\Users\\\\smhrd\\\\anaconda3\\\\lib\\\\site-packages\\\\sklearn\\\\datasets\\\\data\\\\boston_house_prices.csv'}"
      ]
     },
     "execution_count": 3,
     "metadata": {},
     "output_type": "execute_result"
    }
   ],
   "source": [
    "boston"
   ]
  },
  {
   "cell_type": "code",
   "execution_count": 4,
   "metadata": {},
   "outputs": [
    {
     "data": {
      "text/plain": [
       "dict_keys(['data', 'target', 'feature_names', 'DESCR', 'filename'])"
      ]
     },
     "execution_count": 4,
     "metadata": {},
     "output_type": "execute_result"
    }
   ],
   "source": [
    "boston.keys()"
   ]
  },
  {
   "cell_type": "code",
   "execution_count": 5,
   "metadata": {},
   "outputs": [
    {
     "data": {
      "text/plain": [
       "array([[6.3200e-03, 1.8000e+01, 2.3100e+00, ..., 1.5300e+01, 3.9690e+02,\n",
       "        4.9800e+00],\n",
       "       [2.7310e-02, 0.0000e+00, 7.0700e+00, ..., 1.7800e+01, 3.9690e+02,\n",
       "        9.1400e+00],\n",
       "       [2.7290e-02, 0.0000e+00, 7.0700e+00, ..., 1.7800e+01, 3.9283e+02,\n",
       "        4.0300e+00],\n",
       "       ...,\n",
       "       [6.0760e-02, 0.0000e+00, 1.1930e+01, ..., 2.1000e+01, 3.9690e+02,\n",
       "        5.6400e+00],\n",
       "       [1.0959e-01, 0.0000e+00, 1.1930e+01, ..., 2.1000e+01, 3.9345e+02,\n",
       "        6.4800e+00],\n",
       "       [4.7410e-02, 0.0000e+00, 1.1930e+01, ..., 2.1000e+01, 3.9690e+02,\n",
       "        7.8800e+00]])"
      ]
     },
     "execution_count": 5,
     "metadata": {},
     "output_type": "execute_result"
    }
   ],
   "source": [
    "boston.data"
   ]
  },
  {
   "cell_type": "code",
   "execution_count": 6,
   "metadata": {},
   "outputs": [
    {
     "data": {
      "text/plain": [
       "array([24. , 21.6, 34.7, 33.4, 36.2, 28.7, 22.9, 27.1, 16.5, 18.9, 15. ,\n",
       "       18.9, 21.7, 20.4, 18.2, 19.9, 23.1, 17.5, 20.2, 18.2, 13.6, 19.6,\n",
       "       15.2, 14.5, 15.6, 13.9, 16.6, 14.8, 18.4, 21. , 12.7, 14.5, 13.2,\n",
       "       13.1, 13.5, 18.9, 20. , 21. , 24.7, 30.8, 34.9, 26.6, 25.3, 24.7,\n",
       "       21.2, 19.3, 20. , 16.6, 14.4, 19.4, 19.7, 20.5, 25. , 23.4, 18.9,\n",
       "       35.4, 24.7, 31.6, 23.3, 19.6, 18.7, 16. , 22.2, 25. , 33. , 23.5,\n",
       "       19.4, 22. , 17.4, 20.9, 24.2, 21.7, 22.8, 23.4, 24.1, 21.4, 20. ,\n",
       "       20.8, 21.2, 20.3, 28. , 23.9, 24.8, 22.9, 23.9, 26.6, 22.5, 22.2,\n",
       "       23.6, 28.7, 22.6, 22. , 22.9, 25. , 20.6, 28.4, 21.4, 38.7, 43.8,\n",
       "       33.2, 27.5, 26.5, 18.6, 19.3, 20.1, 19.5, 19.5, 20.4, 19.8, 19.4,\n",
       "       21.7, 22.8, 18.8, 18.7, 18.5, 18.3, 21.2, 19.2, 20.4, 19.3, 22. ,\n",
       "       20.3, 20.5, 17.3, 18.8, 21.4, 15.7, 16.2, 18. , 14.3, 19.2, 19.6,\n",
       "       23. , 18.4, 15.6, 18.1, 17.4, 17.1, 13.3, 17.8, 14. , 14.4, 13.4,\n",
       "       15.6, 11.8, 13.8, 15.6, 14.6, 17.8, 15.4, 21.5, 19.6, 15.3, 19.4,\n",
       "       17. , 15.6, 13.1, 41.3, 24.3, 23.3, 27. , 50. , 50. , 50. , 22.7,\n",
       "       25. , 50. , 23.8, 23.8, 22.3, 17.4, 19.1, 23.1, 23.6, 22.6, 29.4,\n",
       "       23.2, 24.6, 29.9, 37.2, 39.8, 36.2, 37.9, 32.5, 26.4, 29.6, 50. ,\n",
       "       32. , 29.8, 34.9, 37. , 30.5, 36.4, 31.1, 29.1, 50. , 33.3, 30.3,\n",
       "       34.6, 34.9, 32.9, 24.1, 42.3, 48.5, 50. , 22.6, 24.4, 22.5, 24.4,\n",
       "       20. , 21.7, 19.3, 22.4, 28.1, 23.7, 25. , 23.3, 28.7, 21.5, 23. ,\n",
       "       26.7, 21.7, 27.5, 30.1, 44.8, 50. , 37.6, 31.6, 46.7, 31.5, 24.3,\n",
       "       31.7, 41.7, 48.3, 29. , 24. , 25.1, 31.5, 23.7, 23.3, 22. , 20.1,\n",
       "       22.2, 23.7, 17.6, 18.5, 24.3, 20.5, 24.5, 26.2, 24.4, 24.8, 29.6,\n",
       "       42.8, 21.9, 20.9, 44. , 50. , 36. , 30.1, 33.8, 43.1, 48.8, 31. ,\n",
       "       36.5, 22.8, 30.7, 50. , 43.5, 20.7, 21.1, 25.2, 24.4, 35.2, 32.4,\n",
       "       32. , 33.2, 33.1, 29.1, 35.1, 45.4, 35.4, 46. , 50. , 32.2, 22. ,\n",
       "       20.1, 23.2, 22.3, 24.8, 28.5, 37.3, 27.9, 23.9, 21.7, 28.6, 27.1,\n",
       "       20.3, 22.5, 29. , 24.8, 22. , 26.4, 33.1, 36.1, 28.4, 33.4, 28.2,\n",
       "       22.8, 20.3, 16.1, 22.1, 19.4, 21.6, 23.8, 16.2, 17.8, 19.8, 23.1,\n",
       "       21. , 23.8, 23.1, 20.4, 18.5, 25. , 24.6, 23. , 22.2, 19.3, 22.6,\n",
       "       19.8, 17.1, 19.4, 22.2, 20.7, 21.1, 19.5, 18.5, 20.6, 19. , 18.7,\n",
       "       32.7, 16.5, 23.9, 31.2, 17.5, 17.2, 23.1, 24.5, 26.6, 22.9, 24.1,\n",
       "       18.6, 30.1, 18.2, 20.6, 17.8, 21.7, 22.7, 22.6, 25. , 19.9, 20.8,\n",
       "       16.8, 21.9, 27.5, 21.9, 23.1, 50. , 50. , 50. , 50. , 50. , 13.8,\n",
       "       13.8, 15. , 13.9, 13.3, 13.1, 10.2, 10.4, 10.9, 11.3, 12.3,  8.8,\n",
       "        7.2, 10.5,  7.4, 10.2, 11.5, 15.1, 23.2,  9.7, 13.8, 12.7, 13.1,\n",
       "       12.5,  8.5,  5. ,  6.3,  5.6,  7.2, 12.1,  8.3,  8.5,  5. , 11.9,\n",
       "       27.9, 17.2, 27.5, 15. , 17.2, 17.9, 16.3,  7. ,  7.2,  7.5, 10.4,\n",
       "        8.8,  8.4, 16.7, 14.2, 20.8, 13.4, 11.7,  8.3, 10.2, 10.9, 11. ,\n",
       "        9.5, 14.5, 14.1, 16.1, 14.3, 11.7, 13.4,  9.6,  8.7,  8.4, 12.8,\n",
       "       10.5, 17.1, 18.4, 15.4, 10.8, 11.8, 14.9, 12.6, 14.1, 13. , 13.4,\n",
       "       15.2, 16.1, 17.8, 14.9, 14.1, 12.7, 13.5, 14.9, 20. , 16.4, 17.7,\n",
       "       19.5, 20.2, 21.4, 19.9, 19. , 19.1, 19.1, 20.1, 19.9, 19.6, 23.2,\n",
       "       29.8, 13.8, 13.3, 16.7, 12. , 14.6, 21.4, 23. , 23.7, 25. , 21.8,\n",
       "       20.6, 21.2, 19.1, 20.6, 15.2,  7. ,  8.1, 13.6, 20.1, 21.8, 24.5,\n",
       "       23.1, 19.7, 18.3, 21.2, 17.5, 16.8, 22.4, 20.6, 23.9, 22. , 11.9])"
      ]
     },
     "execution_count": 6,
     "metadata": {},
     "output_type": "execute_result"
    }
   ],
   "source": [
    "# 예측 값(주택 가격, 수치 데이터)\n",
    "boston.target"
   ]
  },
  {
   "cell_type": "code",
   "execution_count": 7,
   "metadata": {},
   "outputs": [
    {
     "data": {
      "text/plain": [
       "array(['CRIM', 'ZN', 'INDUS', 'CHAS', 'NOX', 'RM', 'AGE', 'DIS', 'RAD',\n",
       "       'TAX', 'PTRATIO', 'B', 'LSTAT'], dtype='<U7')"
      ]
     },
     "execution_count": 7,
     "metadata": {},
     "output_type": "execute_result"
    }
   ],
   "source": [
    "boston.feature_names"
   ]
  },
  {
   "cell_type": "code",
   "execution_count": 8,
   "metadata": {},
   "outputs": [
    {
     "name": "stdout",
     "output_type": "stream",
     "text": [
      ".. _boston_dataset:\n",
      "\n",
      "Boston house prices dataset\n",
      "---------------------------\n",
      "\n",
      "**Data Set Characteristics:**  \n",
      "\n",
      "    :Number of Instances: 506 \n",
      "\n",
      "    :Number of Attributes: 13 numeric/categorical predictive. Median Value (attribute 14) is usually the target.\n",
      "\n",
      "    :Attribute Information (in order):\n",
      "        - CRIM     per capita crime rate by town\n",
      "        - ZN       proportion of residential land zoned for lots over 25,000 sq.ft.\n",
      "        - INDUS    proportion of non-retail business acres per town\n",
      "        - CHAS     Charles River dummy variable (= 1 if tract bounds river; 0 otherwise)\n",
      "        - NOX      nitric oxides concentration (parts per 10 million)\n",
      "        - RM       average number of rooms per dwelling\n",
      "        - AGE      proportion of owner-occupied units built prior to 1940\n",
      "        - DIS      weighted distances to five Boston employment centres\n",
      "        - RAD      index of accessibility to radial highways\n",
      "        - TAX      full-value property-tax rate per $10,000\n",
      "        - PTRATIO  pupil-teacher ratio by town\n",
      "        - B        1000(Bk - 0.63)^2 where Bk is the proportion of black people by town\n",
      "        - LSTAT    % lower status of the population\n",
      "        - MEDV     Median value of owner-occupied homes in $1000's\n",
      "\n",
      "    :Missing Attribute Values: None\n",
      "\n",
      "    :Creator: Harrison, D. and Rubinfeld, D.L.\n",
      "\n",
      "This is a copy of UCI ML housing dataset.\n",
      "https://archive.ics.uci.edu/ml/machine-learning-databases/housing/\n",
      "\n",
      "\n",
      "This dataset was taken from the StatLib library which is maintained at Carnegie Mellon University.\n",
      "\n",
      "The Boston house-price data of Harrison, D. and Rubinfeld, D.L. 'Hedonic\n",
      "prices and the demand for clean air', J. Environ. Economics & Management,\n",
      "vol.5, 81-102, 1978.   Used in Belsley, Kuh & Welsch, 'Regression diagnostics\n",
      "...', Wiley, 1980.   N.B. Various transformations are used in the table on\n",
      "pages 244-261 of the latter.\n",
      "\n",
      "The Boston house-price data has been used in many machine learning papers that address regression\n",
      "problems.   \n",
      "     \n",
      ".. topic:: References\n",
      "\n",
      "   - Belsley, Kuh & Welsch, 'Regression diagnostics: Identifying Influential Data and Sources of Collinearity', Wiley, 1980. 244-261.\n",
      "   - Quinlan,R. (1993). Combining Instance-Based and Model-Based Learning. In Proceedings on the Tenth International Conference of Machine Learning, 236-243, University of Massachusetts, Amherst. Morgan Kaufmann.\n",
      "\n"
     ]
    }
   ],
   "source": [
    "print(boston.DESCR)"
   ]
  },
  {
   "cell_type": "code",
   "execution_count": 9,
   "metadata": {},
   "outputs": [],
   "source": [
    "# 문제(X 데이터)\n",
    "bostan_df = pd.DataFrame(boston.data, columns= boston.feature_names)"
   ]
  },
  {
   "cell_type": "code",
   "execution_count": 10,
   "metadata": {},
   "outputs": [
    {
     "data": {
      "text/html": [
       "<div>\n",
       "<style scoped>\n",
       "    .dataframe tbody tr th:only-of-type {\n",
       "        vertical-align: middle;\n",
       "    }\n",
       "\n",
       "    .dataframe tbody tr th {\n",
       "        vertical-align: top;\n",
       "    }\n",
       "\n",
       "    .dataframe thead th {\n",
       "        text-align: right;\n",
       "    }\n",
       "</style>\n",
       "<table border=\"1\" class=\"dataframe\">\n",
       "  <thead>\n",
       "    <tr style=\"text-align: right;\">\n",
       "      <th></th>\n",
       "      <th>CRIM</th>\n",
       "      <th>ZN</th>\n",
       "      <th>INDUS</th>\n",
       "      <th>CHAS</th>\n",
       "      <th>NOX</th>\n",
       "      <th>RM</th>\n",
       "      <th>AGE</th>\n",
       "      <th>DIS</th>\n",
       "      <th>RAD</th>\n",
       "      <th>TAX</th>\n",
       "      <th>PTRATIO</th>\n",
       "      <th>B</th>\n",
       "      <th>LSTAT</th>\n",
       "    </tr>\n",
       "  </thead>\n",
       "  <tbody>\n",
       "    <tr>\n",
       "      <th>0</th>\n",
       "      <td>0.00632</td>\n",
       "      <td>18.0</td>\n",
       "      <td>2.31</td>\n",
       "      <td>0.0</td>\n",
       "      <td>0.538</td>\n",
       "      <td>6.575</td>\n",
       "      <td>65.2</td>\n",
       "      <td>4.0900</td>\n",
       "      <td>1.0</td>\n",
       "      <td>296.0</td>\n",
       "      <td>15.3</td>\n",
       "      <td>396.90</td>\n",
       "      <td>4.98</td>\n",
       "    </tr>\n",
       "    <tr>\n",
       "      <th>1</th>\n",
       "      <td>0.02731</td>\n",
       "      <td>0.0</td>\n",
       "      <td>7.07</td>\n",
       "      <td>0.0</td>\n",
       "      <td>0.469</td>\n",
       "      <td>6.421</td>\n",
       "      <td>78.9</td>\n",
       "      <td>4.9671</td>\n",
       "      <td>2.0</td>\n",
       "      <td>242.0</td>\n",
       "      <td>17.8</td>\n",
       "      <td>396.90</td>\n",
       "      <td>9.14</td>\n",
       "    </tr>\n",
       "    <tr>\n",
       "      <th>2</th>\n",
       "      <td>0.02729</td>\n",
       "      <td>0.0</td>\n",
       "      <td>7.07</td>\n",
       "      <td>0.0</td>\n",
       "      <td>0.469</td>\n",
       "      <td>7.185</td>\n",
       "      <td>61.1</td>\n",
       "      <td>4.9671</td>\n",
       "      <td>2.0</td>\n",
       "      <td>242.0</td>\n",
       "      <td>17.8</td>\n",
       "      <td>392.83</td>\n",
       "      <td>4.03</td>\n",
       "    </tr>\n",
       "    <tr>\n",
       "      <th>3</th>\n",
       "      <td>0.03237</td>\n",
       "      <td>0.0</td>\n",
       "      <td>2.18</td>\n",
       "      <td>0.0</td>\n",
       "      <td>0.458</td>\n",
       "      <td>6.998</td>\n",
       "      <td>45.8</td>\n",
       "      <td>6.0622</td>\n",
       "      <td>3.0</td>\n",
       "      <td>222.0</td>\n",
       "      <td>18.7</td>\n",
       "      <td>394.63</td>\n",
       "      <td>2.94</td>\n",
       "    </tr>\n",
       "    <tr>\n",
       "      <th>4</th>\n",
       "      <td>0.06905</td>\n",
       "      <td>0.0</td>\n",
       "      <td>2.18</td>\n",
       "      <td>0.0</td>\n",
       "      <td>0.458</td>\n",
       "      <td>7.147</td>\n",
       "      <td>54.2</td>\n",
       "      <td>6.0622</td>\n",
       "      <td>3.0</td>\n",
       "      <td>222.0</td>\n",
       "      <td>18.7</td>\n",
       "      <td>396.90</td>\n",
       "      <td>5.33</td>\n",
       "    </tr>\n",
       "  </tbody>\n",
       "</table>\n",
       "</div>"
      ],
      "text/plain": [
       "      CRIM    ZN  INDUS  CHAS    NOX     RM   AGE     DIS  RAD    TAX  \\\n",
       "0  0.00632  18.0   2.31   0.0  0.538  6.575  65.2  4.0900  1.0  296.0   \n",
       "1  0.02731   0.0   7.07   0.0  0.469  6.421  78.9  4.9671  2.0  242.0   \n",
       "2  0.02729   0.0   7.07   0.0  0.469  7.185  61.1  4.9671  2.0  242.0   \n",
       "3  0.03237   0.0   2.18   0.0  0.458  6.998  45.8  6.0622  3.0  222.0   \n",
       "4  0.06905   0.0   2.18   0.0  0.458  7.147  54.2  6.0622  3.0  222.0   \n",
       "\n",
       "   PTRATIO       B  LSTAT  \n",
       "0     15.3  396.90   4.98  \n",
       "1     17.8  396.90   9.14  \n",
       "2     17.8  392.83   4.03  \n",
       "3     18.7  394.63   2.94  \n",
       "4     18.7  396.90   5.33  "
      ]
     },
     "execution_count": 10,
     "metadata": {},
     "output_type": "execute_result"
    }
   ],
   "source": [
    "bostan_df.head()"
   ]
  },
  {
   "cell_type": "code",
   "execution_count": 11,
   "metadata": {},
   "outputs": [
    {
     "data": {
      "text/plain": [
       "array([24. , 21.6, 34.7, 33.4, 36.2, 28.7, 22.9, 27.1, 16.5, 18.9, 15. ,\n",
       "       18.9, 21.7, 20.4, 18.2, 19.9, 23.1, 17.5, 20.2, 18.2, 13.6, 19.6,\n",
       "       15.2, 14.5, 15.6, 13.9, 16.6, 14.8, 18.4, 21. , 12.7, 14.5, 13.2,\n",
       "       13.1, 13.5, 18.9, 20. , 21. , 24.7, 30.8, 34.9, 26.6, 25.3, 24.7,\n",
       "       21.2, 19.3, 20. , 16.6, 14.4, 19.4, 19.7, 20.5, 25. , 23.4, 18.9,\n",
       "       35.4, 24.7, 31.6, 23.3, 19.6, 18.7, 16. , 22.2, 25. , 33. , 23.5,\n",
       "       19.4, 22. , 17.4, 20.9, 24.2, 21.7, 22.8, 23.4, 24.1, 21.4, 20. ,\n",
       "       20.8, 21.2, 20.3, 28. , 23.9, 24.8, 22.9, 23.9, 26.6, 22.5, 22.2,\n",
       "       23.6, 28.7, 22.6, 22. , 22.9, 25. , 20.6, 28.4, 21.4, 38.7, 43.8,\n",
       "       33.2, 27.5, 26.5, 18.6, 19.3, 20.1, 19.5, 19.5, 20.4, 19.8, 19.4,\n",
       "       21.7, 22.8, 18.8, 18.7, 18.5, 18.3, 21.2, 19.2, 20.4, 19.3, 22. ,\n",
       "       20.3, 20.5, 17.3, 18.8, 21.4, 15.7, 16.2, 18. , 14.3, 19.2, 19.6,\n",
       "       23. , 18.4, 15.6, 18.1, 17.4, 17.1, 13.3, 17.8, 14. , 14.4, 13.4,\n",
       "       15.6, 11.8, 13.8, 15.6, 14.6, 17.8, 15.4, 21.5, 19.6, 15.3, 19.4,\n",
       "       17. , 15.6, 13.1, 41.3, 24.3, 23.3, 27. , 50. , 50. , 50. , 22.7,\n",
       "       25. , 50. , 23.8, 23.8, 22.3, 17.4, 19.1, 23.1, 23.6, 22.6, 29.4,\n",
       "       23.2, 24.6, 29.9, 37.2, 39.8, 36.2, 37.9, 32.5, 26.4, 29.6, 50. ,\n",
       "       32. , 29.8, 34.9, 37. , 30.5, 36.4, 31.1, 29.1, 50. , 33.3, 30.3,\n",
       "       34.6, 34.9, 32.9, 24.1, 42.3, 48.5, 50. , 22.6, 24.4, 22.5, 24.4,\n",
       "       20. , 21.7, 19.3, 22.4, 28.1, 23.7, 25. , 23.3, 28.7, 21.5, 23. ,\n",
       "       26.7, 21.7, 27.5, 30.1, 44.8, 50. , 37.6, 31.6, 46.7, 31.5, 24.3,\n",
       "       31.7, 41.7, 48.3, 29. , 24. , 25.1, 31.5, 23.7, 23.3, 22. , 20.1,\n",
       "       22.2, 23.7, 17.6, 18.5, 24.3, 20.5, 24.5, 26.2, 24.4, 24.8, 29.6,\n",
       "       42.8, 21.9, 20.9, 44. , 50. , 36. , 30.1, 33.8, 43.1, 48.8, 31. ,\n",
       "       36.5, 22.8, 30.7, 50. , 43.5, 20.7, 21.1, 25.2, 24.4, 35.2, 32.4,\n",
       "       32. , 33.2, 33.1, 29.1, 35.1, 45.4, 35.4, 46. , 50. , 32.2, 22. ,\n",
       "       20.1, 23.2, 22.3, 24.8, 28.5, 37.3, 27.9, 23.9, 21.7, 28.6, 27.1,\n",
       "       20.3, 22.5, 29. , 24.8, 22. , 26.4, 33.1, 36.1, 28.4, 33.4, 28.2,\n",
       "       22.8, 20.3, 16.1, 22.1, 19.4, 21.6, 23.8, 16.2, 17.8, 19.8, 23.1,\n",
       "       21. , 23.8, 23.1, 20.4, 18.5, 25. , 24.6, 23. , 22.2, 19.3, 22.6,\n",
       "       19.8, 17.1, 19.4, 22.2, 20.7, 21.1, 19.5, 18.5, 20.6, 19. , 18.7,\n",
       "       32.7, 16.5, 23.9, 31.2, 17.5, 17.2, 23.1, 24.5, 26.6, 22.9, 24.1,\n",
       "       18.6, 30.1, 18.2, 20.6, 17.8, 21.7, 22.7, 22.6, 25. , 19.9, 20.8,\n",
       "       16.8, 21.9, 27.5, 21.9, 23.1, 50. , 50. , 50. , 50. , 50. , 13.8,\n",
       "       13.8, 15. , 13.9, 13.3, 13.1, 10.2, 10.4, 10.9, 11.3, 12.3,  8.8,\n",
       "        7.2, 10.5,  7.4, 10.2, 11.5, 15.1, 23.2,  9.7, 13.8, 12.7, 13.1,\n",
       "       12.5,  8.5,  5. ,  6.3,  5.6,  7.2, 12.1,  8.3,  8.5,  5. , 11.9,\n",
       "       27.9, 17.2, 27.5, 15. , 17.2, 17.9, 16.3,  7. ,  7.2,  7.5, 10.4,\n",
       "        8.8,  8.4, 16.7, 14.2, 20.8, 13.4, 11.7,  8.3, 10.2, 10.9, 11. ,\n",
       "        9.5, 14.5, 14.1, 16.1, 14.3, 11.7, 13.4,  9.6,  8.7,  8.4, 12.8,\n",
       "       10.5, 17.1, 18.4, 15.4, 10.8, 11.8, 14.9, 12.6, 14.1, 13. , 13.4,\n",
       "       15.2, 16.1, 17.8, 14.9, 14.1, 12.7, 13.5, 14.9, 20. , 16.4, 17.7,\n",
       "       19.5, 20.2, 21.4, 19.9, 19. , 19.1, 19.1, 20.1, 19.9, 19.6, 23.2,\n",
       "       29.8, 13.8, 13.3, 16.7, 12. , 14.6, 21.4, 23. , 23.7, 25. , 21.8,\n",
       "       20.6, 21.2, 19.1, 20.6, 15.2,  7. ,  8.1, 13.6, 20.1, 21.8, 24.5,\n",
       "       23.1, 19.7, 18.3, 21.2, 17.5, 16.8, 22.4, 20.6, 23.9, 22. , 11.9])"
      ]
     },
     "execution_count": 11,
     "metadata": {},
     "output_type": "execute_result"
    }
   ],
   "source": [
    "# 정답(y 데이터)\n",
    "house_price = boston.target\n",
    "house_price"
   ]
  },
  {
   "cell_type": "code",
   "execution_count": 12,
   "metadata": {},
   "outputs": [
    {
     "name": "stdout",
     "output_type": "stream",
     "text": [
      "<class 'pandas.core.frame.DataFrame'>\n",
      "RangeIndex: 506 entries, 0 to 505\n",
      "Data columns (total 13 columns):\n",
      " #   Column   Non-Null Count  Dtype  \n",
      "---  ------   --------------  -----  \n",
      " 0   CRIM     506 non-null    float64\n",
      " 1   ZN       506 non-null    float64\n",
      " 2   INDUS    506 non-null    float64\n",
      " 3   CHAS     506 non-null    float64\n",
      " 4   NOX      506 non-null    float64\n",
      " 5   RM       506 non-null    float64\n",
      " 6   AGE      506 non-null    float64\n",
      " 7   DIS      506 non-null    float64\n",
      " 8   RAD      506 non-null    float64\n",
      " 9   TAX      506 non-null    float64\n",
      " 10  PTRATIO  506 non-null    float64\n",
      " 11  B        506 non-null    float64\n",
      " 12  LSTAT    506 non-null    float64\n",
      "dtypes: float64(13)\n",
      "memory usage: 51.5 KB\n"
     ]
    }
   ],
   "source": [
    "bostan_df.info()"
   ]
  },
  {
   "cell_type": "markdown",
   "metadata": {},
   "source": [
    "##### train, test 분리"
   ]
  },
  {
   "cell_type": "code",
   "execution_count": 13,
   "metadata": {},
   "outputs": [],
   "source": [
    "from sklearn.model_selection import train_test_split"
   ]
  },
  {
   "cell_type": "code",
   "execution_count": 14,
   "metadata": {},
   "outputs": [],
   "source": [
    "X_train, X_test, y_train, y_test = train_test_split(bostan_df, house_price, test_size=0.3)"
   ]
  },
  {
   "cell_type": "code",
   "execution_count": 15,
   "metadata": {},
   "outputs": [
    {
     "name": "stdout",
     "output_type": "stream",
     "text": [
      "(354, 13) (354,)\n",
      "(152, 13) (152,)\n"
     ]
    }
   ],
   "source": [
    "print(X_train.shape, y_train.shape)\n",
    "print(X_test.shape, y_test.shape)"
   ]
  },
  {
   "cell_type": "code",
   "execution_count": 16,
   "metadata": {},
   "outputs": [],
   "source": [
    "boston_copy = X_train.copy()"
   ]
  },
  {
   "cell_type": "code",
   "execution_count": 17,
   "metadata": {},
   "outputs": [
    {
     "data": {
      "text/html": [
       "<div>\n",
       "<style scoped>\n",
       "    .dataframe tbody tr th:only-of-type {\n",
       "        vertical-align: middle;\n",
       "    }\n",
       "\n",
       "    .dataframe tbody tr th {\n",
       "        vertical-align: top;\n",
       "    }\n",
       "\n",
       "    .dataframe thead th {\n",
       "        text-align: right;\n",
       "    }\n",
       "</style>\n",
       "<table border=\"1\" class=\"dataframe\">\n",
       "  <thead>\n",
       "    <tr style=\"text-align: right;\">\n",
       "      <th></th>\n",
       "      <th>CRIM</th>\n",
       "      <th>ZN</th>\n",
       "      <th>INDUS</th>\n",
       "      <th>CHAS</th>\n",
       "      <th>NOX</th>\n",
       "      <th>RM</th>\n",
       "      <th>AGE</th>\n",
       "      <th>DIS</th>\n",
       "      <th>RAD</th>\n",
       "      <th>TAX</th>\n",
       "      <th>PTRATIO</th>\n",
       "      <th>B</th>\n",
       "      <th>LSTAT</th>\n",
       "      <th>PRICE</th>\n",
       "    </tr>\n",
       "  </thead>\n",
       "  <tbody>\n",
       "    <tr>\n",
       "      <th>338</th>\n",
       "      <td>0.03306</td>\n",
       "      <td>0.0</td>\n",
       "      <td>5.19</td>\n",
       "      <td>0.0</td>\n",
       "      <td>0.515</td>\n",
       "      <td>6.059</td>\n",
       "      <td>37.3</td>\n",
       "      <td>4.8122</td>\n",
       "      <td>5.0</td>\n",
       "      <td>224.0</td>\n",
       "      <td>20.2</td>\n",
       "      <td>396.14</td>\n",
       "      <td>8.51</td>\n",
       "      <td>20.6</td>\n",
       "    </tr>\n",
       "    <tr>\n",
       "      <th>198</th>\n",
       "      <td>0.03768</td>\n",
       "      <td>80.0</td>\n",
       "      <td>1.52</td>\n",
       "      <td>0.0</td>\n",
       "      <td>0.404</td>\n",
       "      <td>7.274</td>\n",
       "      <td>38.3</td>\n",
       "      <td>7.3090</td>\n",
       "      <td>2.0</td>\n",
       "      <td>329.0</td>\n",
       "      <td>12.6</td>\n",
       "      <td>392.20</td>\n",
       "      <td>6.62</td>\n",
       "      <td>34.6</td>\n",
       "    </tr>\n",
       "    <tr>\n",
       "      <th>397</th>\n",
       "      <td>7.67202</td>\n",
       "      <td>0.0</td>\n",
       "      <td>18.10</td>\n",
       "      <td>0.0</td>\n",
       "      <td>0.693</td>\n",
       "      <td>5.747</td>\n",
       "      <td>98.9</td>\n",
       "      <td>1.6334</td>\n",
       "      <td>24.0</td>\n",
       "      <td>666.0</td>\n",
       "      <td>20.2</td>\n",
       "      <td>393.10</td>\n",
       "      <td>19.92</td>\n",
       "      <td>8.5</td>\n",
       "    </tr>\n",
       "    <tr>\n",
       "      <th>88</th>\n",
       "      <td>0.05660</td>\n",
       "      <td>0.0</td>\n",
       "      <td>3.41</td>\n",
       "      <td>0.0</td>\n",
       "      <td>0.489</td>\n",
       "      <td>7.007</td>\n",
       "      <td>86.3</td>\n",
       "      <td>3.4217</td>\n",
       "      <td>2.0</td>\n",
       "      <td>270.0</td>\n",
       "      <td>17.8</td>\n",
       "      <td>396.90</td>\n",
       "      <td>5.50</td>\n",
       "      <td>23.6</td>\n",
       "    </tr>\n",
       "    <tr>\n",
       "      <th>376</th>\n",
       "      <td>15.28800</td>\n",
       "      <td>0.0</td>\n",
       "      <td>18.10</td>\n",
       "      <td>0.0</td>\n",
       "      <td>0.671</td>\n",
       "      <td>6.649</td>\n",
       "      <td>93.3</td>\n",
       "      <td>1.3449</td>\n",
       "      <td>24.0</td>\n",
       "      <td>666.0</td>\n",
       "      <td>20.2</td>\n",
       "      <td>363.02</td>\n",
       "      <td>23.24</td>\n",
       "      <td>13.9</td>\n",
       "    </tr>\n",
       "    <tr>\n",
       "      <th>...</th>\n",
       "      <td>...</td>\n",
       "      <td>...</td>\n",
       "      <td>...</td>\n",
       "      <td>...</td>\n",
       "      <td>...</td>\n",
       "      <td>...</td>\n",
       "      <td>...</td>\n",
       "      <td>...</td>\n",
       "      <td>...</td>\n",
       "      <td>...</td>\n",
       "      <td>...</td>\n",
       "      <td>...</td>\n",
       "      <td>...</td>\n",
       "      <td>...</td>\n",
       "    </tr>\n",
       "    <tr>\n",
       "      <th>148</th>\n",
       "      <td>2.33099</td>\n",
       "      <td>0.0</td>\n",
       "      <td>19.58</td>\n",
       "      <td>0.0</td>\n",
       "      <td>0.871</td>\n",
       "      <td>5.186</td>\n",
       "      <td>93.8</td>\n",
       "      <td>1.5296</td>\n",
       "      <td>5.0</td>\n",
       "      <td>403.0</td>\n",
       "      <td>14.7</td>\n",
       "      <td>356.99</td>\n",
       "      <td>28.32</td>\n",
       "      <td>17.8</td>\n",
       "    </tr>\n",
       "    <tr>\n",
       "      <th>437</th>\n",
       "      <td>15.17720</td>\n",
       "      <td>0.0</td>\n",
       "      <td>18.10</td>\n",
       "      <td>0.0</td>\n",
       "      <td>0.740</td>\n",
       "      <td>6.152</td>\n",
       "      <td>100.0</td>\n",
       "      <td>1.9142</td>\n",
       "      <td>24.0</td>\n",
       "      <td>666.0</td>\n",
       "      <td>20.2</td>\n",
       "      <td>9.32</td>\n",
       "      <td>26.45</td>\n",
       "      <td>8.7</td>\n",
       "    </tr>\n",
       "    <tr>\n",
       "      <th>323</th>\n",
       "      <td>0.28392</td>\n",
       "      <td>0.0</td>\n",
       "      <td>7.38</td>\n",
       "      <td>0.0</td>\n",
       "      <td>0.493</td>\n",
       "      <td>5.708</td>\n",
       "      <td>74.3</td>\n",
       "      <td>4.7211</td>\n",
       "      <td>5.0</td>\n",
       "      <td>287.0</td>\n",
       "      <td>19.6</td>\n",
       "      <td>391.13</td>\n",
       "      <td>11.74</td>\n",
       "      <td>18.5</td>\n",
       "    </tr>\n",
       "    <tr>\n",
       "      <th>138</th>\n",
       "      <td>0.24980</td>\n",
       "      <td>0.0</td>\n",
       "      <td>21.89</td>\n",
       "      <td>0.0</td>\n",
       "      <td>0.624</td>\n",
       "      <td>5.857</td>\n",
       "      <td>98.2</td>\n",
       "      <td>1.6686</td>\n",
       "      <td>4.0</td>\n",
       "      <td>437.0</td>\n",
       "      <td>21.2</td>\n",
       "      <td>392.04</td>\n",
       "      <td>21.32</td>\n",
       "      <td>13.3</td>\n",
       "    </tr>\n",
       "    <tr>\n",
       "      <th>58</th>\n",
       "      <td>0.15445</td>\n",
       "      <td>25.0</td>\n",
       "      <td>5.13</td>\n",
       "      <td>0.0</td>\n",
       "      <td>0.453</td>\n",
       "      <td>6.145</td>\n",
       "      <td>29.2</td>\n",
       "      <td>7.8148</td>\n",
       "      <td>8.0</td>\n",
       "      <td>284.0</td>\n",
       "      <td>19.7</td>\n",
       "      <td>390.68</td>\n",
       "      <td>6.86</td>\n",
       "      <td>23.3</td>\n",
       "    </tr>\n",
       "  </tbody>\n",
       "</table>\n",
       "<p>354 rows × 14 columns</p>\n",
       "</div>"
      ],
      "text/plain": [
       "         CRIM    ZN  INDUS  CHAS    NOX     RM    AGE     DIS   RAD    TAX  \\\n",
       "338   0.03306   0.0   5.19   0.0  0.515  6.059   37.3  4.8122   5.0  224.0   \n",
       "198   0.03768  80.0   1.52   0.0  0.404  7.274   38.3  7.3090   2.0  329.0   \n",
       "397   7.67202   0.0  18.10   0.0  0.693  5.747   98.9  1.6334  24.0  666.0   \n",
       "88    0.05660   0.0   3.41   0.0  0.489  7.007   86.3  3.4217   2.0  270.0   \n",
       "376  15.28800   0.0  18.10   0.0  0.671  6.649   93.3  1.3449  24.0  666.0   \n",
       "..        ...   ...    ...   ...    ...    ...    ...     ...   ...    ...   \n",
       "148   2.33099   0.0  19.58   0.0  0.871  5.186   93.8  1.5296   5.0  403.0   \n",
       "437  15.17720   0.0  18.10   0.0  0.740  6.152  100.0  1.9142  24.0  666.0   \n",
       "323   0.28392   0.0   7.38   0.0  0.493  5.708   74.3  4.7211   5.0  287.0   \n",
       "138   0.24980   0.0  21.89   0.0  0.624  5.857   98.2  1.6686   4.0  437.0   \n",
       "58    0.15445  25.0   5.13   0.0  0.453  6.145   29.2  7.8148   8.0  284.0   \n",
       "\n",
       "     PTRATIO       B  LSTAT  PRICE  \n",
       "338     20.2  396.14   8.51   20.6  \n",
       "198     12.6  392.20   6.62   34.6  \n",
       "397     20.2  393.10  19.92    8.5  \n",
       "88      17.8  396.90   5.50   23.6  \n",
       "376     20.2  363.02  23.24   13.9  \n",
       "..       ...     ...    ...    ...  \n",
       "148     14.7  356.99  28.32   17.8  \n",
       "437     20.2    9.32  26.45    8.7  \n",
       "323     19.6  391.13  11.74   18.5  \n",
       "138     21.2  392.04  21.32   13.3  \n",
       "58      19.7  390.68   6.86   23.3  \n",
       "\n",
       "[354 rows x 14 columns]"
      ]
     },
     "execution_count": 17,
     "metadata": {},
     "output_type": "execute_result"
    }
   ],
   "source": [
    "boston_copy['PRICE'] = y_train\n",
    "boston_copy"
   ]
  },
  {
   "cell_type": "code",
   "execution_count": null,
   "metadata": {},
   "outputs": [],
   "source": []
  },
  {
   "cell_type": "code",
   "execution_count": 18,
   "metadata": {},
   "outputs": [
    {
     "data": {
      "text/html": [
       "<div>\n",
       "<style scoped>\n",
       "    .dataframe tbody tr th:only-of-type {\n",
       "        vertical-align: middle;\n",
       "    }\n",
       "\n",
       "    .dataframe tbody tr th {\n",
       "        vertical-align: top;\n",
       "    }\n",
       "\n",
       "    .dataframe thead th {\n",
       "        text-align: right;\n",
       "    }\n",
       "</style>\n",
       "<table border=\"1\" class=\"dataframe\">\n",
       "  <thead>\n",
       "    <tr style=\"text-align: right;\">\n",
       "      <th></th>\n",
       "      <th>CRIM</th>\n",
       "      <th>ZN</th>\n",
       "      <th>INDUS</th>\n",
       "      <th>CHAS</th>\n",
       "      <th>NOX</th>\n",
       "      <th>RM</th>\n",
       "      <th>AGE</th>\n",
       "      <th>DIS</th>\n",
       "      <th>RAD</th>\n",
       "      <th>TAX</th>\n",
       "      <th>PTRATIO</th>\n",
       "      <th>B</th>\n",
       "      <th>LSTAT</th>\n",
       "      <th>PRICE</th>\n",
       "    </tr>\n",
       "  </thead>\n",
       "  <tbody>\n",
       "    <tr>\n",
       "      <th>CRIM</th>\n",
       "      <td>1.000000</td>\n",
       "      <td>-0.219824</td>\n",
       "      <td>0.428621</td>\n",
       "      <td>-0.031048</td>\n",
       "      <td>0.449185</td>\n",
       "      <td>-0.257548</td>\n",
       "      <td>0.380113</td>\n",
       "      <td>-0.396854</td>\n",
       "      <td>0.650524</td>\n",
       "      <td>0.598663</td>\n",
       "      <td>0.313560</td>\n",
       "      <td>-0.387704</td>\n",
       "      <td>0.509508</td>\n",
       "      <td>-0.394417</td>\n",
       "    </tr>\n",
       "    <tr>\n",
       "      <th>ZN</th>\n",
       "      <td>-0.219824</td>\n",
       "      <td>1.000000</td>\n",
       "      <td>-0.543364</td>\n",
       "      <td>-0.044998</td>\n",
       "      <td>-0.540398</td>\n",
       "      <td>0.338916</td>\n",
       "      <td>-0.596681</td>\n",
       "      <td>0.690943</td>\n",
       "      <td>-0.330760</td>\n",
       "      <td>-0.325700</td>\n",
       "      <td>-0.393241</td>\n",
       "      <td>0.184472</td>\n",
       "      <td>-0.434029</td>\n",
       "      <td>0.377957</td>\n",
       "    </tr>\n",
       "    <tr>\n",
       "      <th>INDUS</th>\n",
       "      <td>0.428621</td>\n",
       "      <td>-0.543364</td>\n",
       "      <td>1.000000</td>\n",
       "      <td>0.067502</td>\n",
       "      <td>0.781999</td>\n",
       "      <td>-0.457132</td>\n",
       "      <td>0.676068</td>\n",
       "      <td>-0.717017</td>\n",
       "      <td>0.607444</td>\n",
       "      <td>0.739778</td>\n",
       "      <td>0.413231</td>\n",
       "      <td>-0.367039</td>\n",
       "      <td>0.653179</td>\n",
       "      <td>-0.526251</td>\n",
       "    </tr>\n",
       "    <tr>\n",
       "      <th>CHAS</th>\n",
       "      <td>-0.031048</td>\n",
       "      <td>-0.044998</td>\n",
       "      <td>0.067502</td>\n",
       "      <td>1.000000</td>\n",
       "      <td>0.116757</td>\n",
       "      <td>0.055963</td>\n",
       "      <td>0.063600</td>\n",
       "      <td>-0.109626</td>\n",
       "      <td>0.030773</td>\n",
       "      <td>-0.006846</td>\n",
       "      <td>-0.071508</td>\n",
       "      <td>0.030119</td>\n",
       "      <td>-0.047703</td>\n",
       "      <td>0.157760</td>\n",
       "    </tr>\n",
       "    <tr>\n",
       "      <th>NOX</th>\n",
       "      <td>0.449185</td>\n",
       "      <td>-0.540398</td>\n",
       "      <td>0.781999</td>\n",
       "      <td>0.116757</td>\n",
       "      <td>1.000000</td>\n",
       "      <td>-0.347362</td>\n",
       "      <td>0.744629</td>\n",
       "      <td>-0.764590</td>\n",
       "      <td>0.609785</td>\n",
       "      <td>0.667258</td>\n",
       "      <td>0.220496</td>\n",
       "      <td>-0.390359</td>\n",
       "      <td>0.604866</td>\n",
       "      <td>-0.446216</td>\n",
       "    </tr>\n",
       "    <tr>\n",
       "      <th>RM</th>\n",
       "      <td>-0.257548</td>\n",
       "      <td>0.338916</td>\n",
       "      <td>-0.457132</td>\n",
       "      <td>0.055963</td>\n",
       "      <td>-0.347362</td>\n",
       "      <td>1.000000</td>\n",
       "      <td>-0.269262</td>\n",
       "      <td>0.227201</td>\n",
       "      <td>-0.220005</td>\n",
       "      <td>-0.319064</td>\n",
       "      <td>-0.327290</td>\n",
       "      <td>0.124306</td>\n",
       "      <td>-0.596116</td>\n",
       "      <td>0.663820</td>\n",
       "    </tr>\n",
       "    <tr>\n",
       "      <th>AGE</th>\n",
       "      <td>0.380113</td>\n",
       "      <td>-0.596681</td>\n",
       "      <td>0.676068</td>\n",
       "      <td>0.063600</td>\n",
       "      <td>0.744629</td>\n",
       "      <td>-0.269262</td>\n",
       "      <td>1.000000</td>\n",
       "      <td>-0.751061</td>\n",
       "      <td>0.472446</td>\n",
       "      <td>0.526111</td>\n",
       "      <td>0.298679</td>\n",
       "      <td>-0.271159</td>\n",
       "      <td>0.621697</td>\n",
       "      <td>-0.402560</td>\n",
       "    </tr>\n",
       "    <tr>\n",
       "      <th>DIS</th>\n",
       "      <td>-0.396854</td>\n",
       "      <td>0.690943</td>\n",
       "      <td>-0.717017</td>\n",
       "      <td>-0.109626</td>\n",
       "      <td>-0.764590</td>\n",
       "      <td>0.227201</td>\n",
       "      <td>-0.751061</td>\n",
       "      <td>1.000000</td>\n",
       "      <td>-0.508695</td>\n",
       "      <td>-0.542438</td>\n",
       "      <td>-0.283215</td>\n",
       "      <td>0.297041</td>\n",
       "      <td>-0.508780</td>\n",
       "      <td>0.255600</td>\n",
       "    </tr>\n",
       "    <tr>\n",
       "      <th>RAD</th>\n",
       "      <td>0.650524</td>\n",
       "      <td>-0.330760</td>\n",
       "      <td>0.607444</td>\n",
       "      <td>0.030773</td>\n",
       "      <td>0.609785</td>\n",
       "      <td>-0.220005</td>\n",
       "      <td>0.472446</td>\n",
       "      <td>-0.508695</td>\n",
       "      <td>1.000000</td>\n",
       "      <td>0.897876</td>\n",
       "      <td>0.488247</td>\n",
       "      <td>-0.435504</td>\n",
       "      <td>0.509288</td>\n",
       "      <td>-0.339456</td>\n",
       "    </tr>\n",
       "    <tr>\n",
       "      <th>TAX</th>\n",
       "      <td>0.598663</td>\n",
       "      <td>-0.325700</td>\n",
       "      <td>0.739778</td>\n",
       "      <td>-0.006846</td>\n",
       "      <td>0.667258</td>\n",
       "      <td>-0.319064</td>\n",
       "      <td>0.526111</td>\n",
       "      <td>-0.542438</td>\n",
       "      <td>0.897876</td>\n",
       "      <td>1.000000</td>\n",
       "      <td>0.478256</td>\n",
       "      <td>-0.432884</td>\n",
       "      <td>0.572109</td>\n",
       "      <td>-0.448780</td>\n",
       "    </tr>\n",
       "    <tr>\n",
       "      <th>PTRATIO</th>\n",
       "      <td>0.313560</td>\n",
       "      <td>-0.393241</td>\n",
       "      <td>0.413231</td>\n",
       "      <td>-0.071508</td>\n",
       "      <td>0.220496</td>\n",
       "      <td>-0.327290</td>\n",
       "      <td>0.298679</td>\n",
       "      <td>-0.283215</td>\n",
       "      <td>0.488247</td>\n",
       "      <td>0.478256</td>\n",
       "      <td>1.000000</td>\n",
       "      <td>-0.178473</td>\n",
       "      <td>0.363434</td>\n",
       "      <td>-0.441861</td>\n",
       "    </tr>\n",
       "    <tr>\n",
       "      <th>B</th>\n",
       "      <td>-0.387704</td>\n",
       "      <td>0.184472</td>\n",
       "      <td>-0.367039</td>\n",
       "      <td>0.030119</td>\n",
       "      <td>-0.390359</td>\n",
       "      <td>0.124306</td>\n",
       "      <td>-0.271159</td>\n",
       "      <td>0.297041</td>\n",
       "      <td>-0.435504</td>\n",
       "      <td>-0.432884</td>\n",
       "      <td>-0.178473</td>\n",
       "      <td>1.000000</td>\n",
       "      <td>-0.363174</td>\n",
       "      <td>0.338351</td>\n",
       "    </tr>\n",
       "    <tr>\n",
       "      <th>LSTAT</th>\n",
       "      <td>0.509508</td>\n",
       "      <td>-0.434029</td>\n",
       "      <td>0.653179</td>\n",
       "      <td>-0.047703</td>\n",
       "      <td>0.604866</td>\n",
       "      <td>-0.596116</td>\n",
       "      <td>0.621697</td>\n",
       "      <td>-0.508780</td>\n",
       "      <td>0.509288</td>\n",
       "      <td>0.572109</td>\n",
       "      <td>0.363434</td>\n",
       "      <td>-0.363174</td>\n",
       "      <td>1.000000</td>\n",
       "      <td>-0.736510</td>\n",
       "    </tr>\n",
       "    <tr>\n",
       "      <th>PRICE</th>\n",
       "      <td>-0.394417</td>\n",
       "      <td>0.377957</td>\n",
       "      <td>-0.526251</td>\n",
       "      <td>0.157760</td>\n",
       "      <td>-0.446216</td>\n",
       "      <td>0.663820</td>\n",
       "      <td>-0.402560</td>\n",
       "      <td>0.255600</td>\n",
       "      <td>-0.339456</td>\n",
       "      <td>-0.448780</td>\n",
       "      <td>-0.441861</td>\n",
       "      <td>0.338351</td>\n",
       "      <td>-0.736510</td>\n",
       "      <td>1.000000</td>\n",
       "    </tr>\n",
       "  </tbody>\n",
       "</table>\n",
       "</div>"
      ],
      "text/plain": [
       "             CRIM        ZN     INDUS      CHAS       NOX        RM       AGE  \\\n",
       "CRIM     1.000000 -0.219824  0.428621 -0.031048  0.449185 -0.257548  0.380113   \n",
       "ZN      -0.219824  1.000000 -0.543364 -0.044998 -0.540398  0.338916 -0.596681   \n",
       "INDUS    0.428621 -0.543364  1.000000  0.067502  0.781999 -0.457132  0.676068   \n",
       "CHAS    -0.031048 -0.044998  0.067502  1.000000  0.116757  0.055963  0.063600   \n",
       "NOX      0.449185 -0.540398  0.781999  0.116757  1.000000 -0.347362  0.744629   \n",
       "RM      -0.257548  0.338916 -0.457132  0.055963 -0.347362  1.000000 -0.269262   \n",
       "AGE      0.380113 -0.596681  0.676068  0.063600  0.744629 -0.269262  1.000000   \n",
       "DIS     -0.396854  0.690943 -0.717017 -0.109626 -0.764590  0.227201 -0.751061   \n",
       "RAD      0.650524 -0.330760  0.607444  0.030773  0.609785 -0.220005  0.472446   \n",
       "TAX      0.598663 -0.325700  0.739778 -0.006846  0.667258 -0.319064  0.526111   \n",
       "PTRATIO  0.313560 -0.393241  0.413231 -0.071508  0.220496 -0.327290  0.298679   \n",
       "B       -0.387704  0.184472 -0.367039  0.030119 -0.390359  0.124306 -0.271159   \n",
       "LSTAT    0.509508 -0.434029  0.653179 -0.047703  0.604866 -0.596116  0.621697   \n",
       "PRICE   -0.394417  0.377957 -0.526251  0.157760 -0.446216  0.663820 -0.402560   \n",
       "\n",
       "              DIS       RAD       TAX   PTRATIO         B     LSTAT     PRICE  \n",
       "CRIM    -0.396854  0.650524  0.598663  0.313560 -0.387704  0.509508 -0.394417  \n",
       "ZN       0.690943 -0.330760 -0.325700 -0.393241  0.184472 -0.434029  0.377957  \n",
       "INDUS   -0.717017  0.607444  0.739778  0.413231 -0.367039  0.653179 -0.526251  \n",
       "CHAS    -0.109626  0.030773 -0.006846 -0.071508  0.030119 -0.047703  0.157760  \n",
       "NOX     -0.764590  0.609785  0.667258  0.220496 -0.390359  0.604866 -0.446216  \n",
       "RM       0.227201 -0.220005 -0.319064 -0.327290  0.124306 -0.596116  0.663820  \n",
       "AGE     -0.751061  0.472446  0.526111  0.298679 -0.271159  0.621697 -0.402560  \n",
       "DIS      1.000000 -0.508695 -0.542438 -0.283215  0.297041 -0.508780  0.255600  \n",
       "RAD     -0.508695  1.000000  0.897876  0.488247 -0.435504  0.509288 -0.339456  \n",
       "TAX     -0.542438  0.897876  1.000000  0.478256 -0.432884  0.572109 -0.448780  \n",
       "PTRATIO -0.283215  0.488247  0.478256  1.000000 -0.178473  0.363434 -0.441861  \n",
       "B        0.297041 -0.435504 -0.432884 -0.178473  1.000000 -0.363174  0.338351  \n",
       "LSTAT   -0.508780  0.509288  0.572109  0.363434 -0.363174  1.000000 -0.736510  \n",
       "PRICE    0.255600 -0.339456 -0.448780 -0.441861  0.338351 -0.736510  1.000000  "
      ]
     },
     "execution_count": 18,
     "metadata": {},
     "output_type": "execute_result"
    }
   ],
   "source": [
    "boston_copy.corr()"
   ]
  },
  {
   "cell_type": "code",
   "execution_count": 19,
   "metadata": {},
   "outputs": [
    {
     "data": {
      "image/png": "[encoded data removed]",
      "text/plain": [
       "<Figure size 792x792 with 2 Axes>"
      ]
     },
     "metadata": {
      "needs_background": "light"
     },
     "output_type": "display_data"
    }
   ],
   "source": [
    "import seaborn as sns\n",
    "\n",
    "plt.figure(figsize=(11,11))\n",
    "sns.heatmap(boston_copy.corr(), annot=True)\n",
    "plt.show()"
   ]
  },
  {
   "cell_type": "code",
   "execution_count": null,
   "metadata": {},
   "outputs": [],
   "source": []
  },
  {
   "cell_type": "markdown",
   "metadata": {},
   "source": [
    "##### Linear Regression"
   ]
  },
  {
   "cell_type": "code",
   "execution_count": 20,
   "metadata": {},
   "outputs": [],
   "source": [
    "from sklearn.linear_model import LinearRegression\n",
    "from sklearn.model_selection import cross_val_score"
   ]
  },
  {
   "cell_type": "code",
   "execution_count": 21,
   "metadata": {},
   "outputs": [],
   "source": [
    "# 모델 생성\n",
    "linear_model = LinearRegression()"
   ]
  },
  {
   "cell_type": "code",
   "execution_count": 22,
   "metadata": {},
   "outputs": [
    {
     "data": {
      "text/plain": [
       "LinearRegression()"
      ]
     },
     "execution_count": 22,
     "metadata": {},
     "output_type": "execute_result"
    }
   ],
   "source": [
    "# 모델 학습\n",
    "linear_model.fit(X_train, y_train)"
   ]
  },
  {
   "cell_type": "code",
   "execution_count": 23,
   "metadata": {},
   "outputs": [
    {
     "data": {
      "text/plain": [
       "0.7264359070576996"
      ]
     },
     "execution_count": 23,
     "metadata": {},
     "output_type": "execute_result"
    }
   ],
   "source": [
    "linear_model.score(X_train, y_train)"
   ]
  },
  {
   "cell_type": "code",
   "execution_count": 24,
   "metadata": {},
   "outputs": [
    {
     "data": {
      "text/plain": [
       "0.747862530703975"
      ]
     },
     "execution_count": 24,
     "metadata": {},
     "output_type": "execute_result"
    }
   ],
   "source": [
    "linear_model.score(X_test, y_test)"
   ]
  },
  {
   "cell_type": "code",
   "execution_count": 25,
   "metadata": {},
   "outputs": [],
   "source": [
    "result=cross_val_score(linear_model, X_train, y_train, cv=5)"
   ]
  },
  {
   "cell_type": "code",
   "execution_count": 26,
   "metadata": {},
   "outputs": [
    {
     "data": {
      "text/plain": [
       "0.6751943993075141"
      ]
     },
     "execution_count": 26,
     "metadata": {},
     "output_type": "execute_result"
    }
   ],
   "source": [
    "result.mean()"
   ]
  },
  {
   "cell_type": "code",
   "execution_count": null,
   "metadata": {},
   "outputs": [],
   "source": []
  },
  {
   "cell_type": "markdown",
   "metadata": {},
   "source": [
    "##### 특성확장"
   ]
  },
  {
   "cell_type": "code",
   "execution_count": 27,
   "metadata": {},
   "outputs": [],
   "source": [
    "extended_X_train=X_train.copy()"
   ]
  },
  {
   "cell_type": "code",
   "execution_count": 28,
   "metadata": {},
   "outputs": [
    {
     "name": "stderr",
     "output_type": "stream",
     "text": [
      "C:\\Users\\smhrd\\AppData\\Local\\Temp/ipykernel_13988/1963713565.py:3: PerformanceWarning: DataFrame is highly fragmented.  This is usually the result of calling `frame.insert` many times, which has poor performance.  Consider joining all columns at once using pd.concat(axis=1) instead.  To get a de-fragmented frame, use `newframe = frame.copy()`\n",
      "  extended_X_train[col1 + 'x'+ col2] = X_train[col1] * X_train[col2]\n"
     ]
    }
   ],
   "source": [
    "for col1 in X_train.columns: # 13번 반복\n",
    "    for col2 in X_train.columns: # 13번 반복\n",
    "        extended_X_train[col1 + 'x'+ col2] = X_train[col1] * X_train[col2]"
   ]
  },
  {
   "cell_type": "code",
   "execution_count": 29,
   "metadata": {},
   "outputs": [
    {
     "data": {
      "text/html": [
       "<div>\n",
       "<style scoped>\n",
       "    .dataframe tbody tr th:only-of-type {\n",
       "        vertical-align: middle;\n",
       "    }\n",
       "\n",
       "    .dataframe tbody tr th {\n",
       "        vertical-align: top;\n",
       "    }\n",
       "\n",
       "    .dataframe thead th {\n",
       "        text-align: right;\n",
       "    }\n",
       "</style>\n",
       "<table border=\"1\" class=\"dataframe\">\n",
       "  <thead>\n",
       "    <tr style=\"text-align: right;\">\n",
       "      <th></th>\n",
       "      <th>CRIM</th>\n",
       "      <th>ZN</th>\n",
       "      <th>INDUS</th>\n",
       "      <th>CHAS</th>\n",
       "      <th>NOX</th>\n",
       "      <th>RM</th>\n",
       "      <th>AGE</th>\n",
       "      <th>DIS</th>\n",
       "      <th>RAD</th>\n",
       "      <th>TAX</th>\n",
       "      <th>...</th>\n",
       "      <th>LSTATxCHAS</th>\n",
       "      <th>LSTATxNOX</th>\n",
       "      <th>LSTATxRM</th>\n",
       "      <th>LSTATxAGE</th>\n",
       "      <th>LSTATxDIS</th>\n",
       "      <th>LSTATxRAD</th>\n",
       "      <th>LSTATxTAX</th>\n",
       "      <th>LSTATxPTRATIO</th>\n",
       "      <th>LSTATxB</th>\n",
       "      <th>LSTATxLSTAT</th>\n",
       "    </tr>\n",
       "  </thead>\n",
       "  <tbody>\n",
       "    <tr>\n",
       "      <th>338</th>\n",
       "      <td>0.03306</td>\n",
       "      <td>0.0</td>\n",
       "      <td>5.19</td>\n",
       "      <td>0.0</td>\n",
       "      <td>0.515</td>\n",
       "      <td>6.059</td>\n",
       "      <td>37.3</td>\n",
       "      <td>4.8122</td>\n",
       "      <td>5.0</td>\n",
       "      <td>224.0</td>\n",
       "      <td>...</td>\n",
       "      <td>0.0</td>\n",
       "      <td>4.38265</td>\n",
       "      <td>51.56209</td>\n",
       "      <td>317.423</td>\n",
       "      <td>40.951822</td>\n",
       "      <td>42.55</td>\n",
       "      <td>1906.24</td>\n",
       "      <td>171.902</td>\n",
       "      <td>3371.1514</td>\n",
       "      <td>72.4201</td>\n",
       "    </tr>\n",
       "    <tr>\n",
       "      <th>198</th>\n",
       "      <td>0.03768</td>\n",
       "      <td>80.0</td>\n",
       "      <td>1.52</td>\n",
       "      <td>0.0</td>\n",
       "      <td>0.404</td>\n",
       "      <td>7.274</td>\n",
       "      <td>38.3</td>\n",
       "      <td>7.3090</td>\n",
       "      <td>2.0</td>\n",
       "      <td>329.0</td>\n",
       "      <td>...</td>\n",
       "      <td>0.0</td>\n",
       "      <td>2.67448</td>\n",
       "      <td>48.15388</td>\n",
       "      <td>253.546</td>\n",
       "      <td>48.385580</td>\n",
       "      <td>13.24</td>\n",
       "      <td>2177.98</td>\n",
       "      <td>83.412</td>\n",
       "      <td>2596.3640</td>\n",
       "      <td>43.8244</td>\n",
       "    </tr>\n",
       "    <tr>\n",
       "      <th>397</th>\n",
       "      <td>7.67202</td>\n",
       "      <td>0.0</td>\n",
       "      <td>18.10</td>\n",
       "      <td>0.0</td>\n",
       "      <td>0.693</td>\n",
       "      <td>5.747</td>\n",
       "      <td>98.9</td>\n",
       "      <td>1.6334</td>\n",
       "      <td>24.0</td>\n",
       "      <td>666.0</td>\n",
       "      <td>...</td>\n",
       "      <td>0.0</td>\n",
       "      <td>13.80456</td>\n",
       "      <td>114.48024</td>\n",
       "      <td>1970.088</td>\n",
       "      <td>32.537328</td>\n",
       "      <td>478.08</td>\n",
       "      <td>13266.72</td>\n",
       "      <td>402.384</td>\n",
       "      <td>7830.5520</td>\n",
       "      <td>396.8064</td>\n",
       "    </tr>\n",
       "    <tr>\n",
       "      <th>88</th>\n",
       "      <td>0.05660</td>\n",
       "      <td>0.0</td>\n",
       "      <td>3.41</td>\n",
       "      <td>0.0</td>\n",
       "      <td>0.489</td>\n",
       "      <td>7.007</td>\n",
       "      <td>86.3</td>\n",
       "      <td>3.4217</td>\n",
       "      <td>2.0</td>\n",
       "      <td>270.0</td>\n",
       "      <td>...</td>\n",
       "      <td>0.0</td>\n",
       "      <td>2.68950</td>\n",
       "      <td>38.53850</td>\n",
       "      <td>474.650</td>\n",
       "      <td>18.819350</td>\n",
       "      <td>11.00</td>\n",
       "      <td>1485.00</td>\n",
       "      <td>97.900</td>\n",
       "      <td>2182.9500</td>\n",
       "      <td>30.2500</td>\n",
       "    </tr>\n",
       "    <tr>\n",
       "      <th>376</th>\n",
       "      <td>15.28800</td>\n",
       "      <td>0.0</td>\n",
       "      <td>18.10</td>\n",
       "      <td>0.0</td>\n",
       "      <td>0.671</td>\n",
       "      <td>6.649</td>\n",
       "      <td>93.3</td>\n",
       "      <td>1.3449</td>\n",
       "      <td>24.0</td>\n",
       "      <td>666.0</td>\n",
       "      <td>...</td>\n",
       "      <td>0.0</td>\n",
       "      <td>15.59404</td>\n",
       "      <td>154.52276</td>\n",
       "      <td>2168.292</td>\n",
       "      <td>31.255476</td>\n",
       "      <td>557.76</td>\n",
       "      <td>15477.84</td>\n",
       "      <td>469.448</td>\n",
       "      <td>8436.5848</td>\n",
       "      <td>540.0976</td>\n",
       "    </tr>\n",
       "  </tbody>\n",
       "</table>\n",
       "<p>5 rows × 182 columns</p>\n",
       "</div>"
      ],
      "text/plain": [
       "         CRIM    ZN  INDUS  CHAS    NOX     RM   AGE     DIS   RAD    TAX  \\\n",
       "338   0.03306   0.0   5.19   0.0  0.515  6.059  37.3  4.8122   5.0  224.0   \n",
       "198   0.03768  80.0   1.52   0.0  0.404  7.274  38.3  7.3090   2.0  329.0   \n",
       "397   7.67202   0.0  18.10   0.0  0.693  5.747  98.9  1.6334  24.0  666.0   \n",
       "88    0.05660   0.0   3.41   0.0  0.489  7.007  86.3  3.4217   2.0  270.0   \n",
       "376  15.28800   0.0  18.10   0.0  0.671  6.649  93.3  1.3449  24.0  666.0   \n",
       "\n",
       "     ...  LSTATxCHAS  LSTATxNOX   LSTATxRM  LSTATxAGE  LSTATxDIS  LSTATxRAD  \\\n",
       "338  ...         0.0    4.38265   51.56209    317.423  40.951822      42.55   \n",
       "198  ...         0.0    2.67448   48.15388    253.546  48.385580      13.24   \n",
       "397  ...         0.0   13.80456  114.48024   1970.088  32.537328     478.08   \n",
       "88   ...         0.0    2.68950   38.53850    474.650  18.819350      11.00   \n",
       "376  ...         0.0   15.59404  154.52276   2168.292  31.255476     557.76   \n",
       "\n",
       "     LSTATxTAX  LSTATxPTRATIO    LSTATxB  LSTATxLSTAT  \n",
       "338    1906.24        171.902  3371.1514      72.4201  \n",
       "198    2177.98         83.412  2596.3640      43.8244  \n",
       "397   13266.72        402.384  7830.5520     396.8064  \n",
       "88     1485.00         97.900  2182.9500      30.2500  \n",
       "376   15477.84        469.448  8436.5848     540.0976  \n",
       "\n",
       "[5 rows x 182 columns]"
      ]
     },
     "execution_count": 29,
     "metadata": {},
     "output_type": "execute_result"
    }
   ],
   "source": [
    "extended_X_train.head()"
   ]
  },
  {
   "cell_type": "code",
   "execution_count": 30,
   "metadata": {},
   "outputs": [
    {
     "data": {
      "text/plain": [
       "(354, 182)"
      ]
     },
     "execution_count": 30,
     "metadata": {},
     "output_type": "execute_result"
    }
   ],
   "source": [
    "extended_X_train.shape"
   ]
  },
  {
   "cell_type": "code",
   "execution_count": 31,
   "metadata": {},
   "outputs": [],
   "source": [
    "extended_X_test = X_test.copy()"
   ]
  },
  {
   "cell_type": "code",
   "execution_count": 32,
   "metadata": {},
   "outputs": [
    {
     "name": "stderr",
     "output_type": "stream",
     "text": [
      "C:\\Users\\smhrd\\AppData\\Local\\Temp/ipykernel_13988/3094626530.py:4: PerformanceWarning: DataFrame is highly fragmented.  This is usually the result of calling `frame.insert` many times, which has poor performance.  Consider joining all columns at once using pd.concat(axis=1) instead.  To get a de-fragmented frame, use `newframe = frame.copy()`\n",
      "  extended_X_test[col1 + 'x'+ col2] = X_test[col1] * X_test[col2]\n"
     ]
    }
   ],
   "source": [
    "# test 데이터 확장\n",
    "for col1 in X_test.columns: # 13번 반복\n",
    "    for col2 in X_test.columns: # 13번 반복\n",
    "        extended_X_test[col1 + 'x'+ col2] = X_test[col1] * X_test[col2]"
   ]
  },
  {
   "cell_type": "code",
   "execution_count": 33,
   "metadata": {},
   "outputs": [],
   "source": [
    "# 모델 생성 2\n",
    "linear_model2 = LinearRegression()"
   ]
  },
  {
   "cell_type": "code",
   "execution_count": 34,
   "metadata": {},
   "outputs": [
    {
     "data": {
      "text/plain": [
       "LinearRegression()"
      ]
     },
     "execution_count": 34,
     "metadata": {},
     "output_type": "execute_result"
    }
   ],
   "source": [
    "linear_model2.fit(extended_X_train, y_train)"
   ]
  },
  {
   "cell_type": "code",
   "execution_count": 35,
   "metadata": {},
   "outputs": [
    {
     "data": {
      "text/plain": [
       "array([-143.14700988,    0.68861468,    0.89434478,    0.15888882,\n",
       "          0.75728152])"
      ]
     },
     "execution_count": 35,
     "metadata": {},
     "output_type": "execute_result"
    }
   ],
   "source": [
    "result2 = cross_val_score(linear_model2, extended_X_train, y_train, cv=5)\n",
    "result2"
   ]
  },
  {
   "cell_type": "code",
   "execution_count": 36,
   "metadata": {},
   "outputs": [
    {
     "data": {
      "text/plain": [
       "-28.129576014707176"
      ]
     },
     "execution_count": 36,
     "metadata": {},
     "output_type": "execute_result"
    }
   ],
   "source": [
    "result2.mean()"
   ]
  },
  {
   "cell_type": "code",
   "execution_count": null,
   "metadata": {},
   "outputs": [],
   "source": []
  },
  {
   "cell_type": "markdown",
   "metadata": {},
   "source": [
    "##### Ridge\n",
    "- L2 규제 사용.\n",
    "- 특성들이 0에 가까워질 수 있다."
   ]
  },
  {
   "cell_type": "code",
   "execution_count": 37,
   "metadata": {},
   "outputs": [],
   "source": [
    "from sklearn.linear_model import Ridge"
   ]
  },
  {
   "cell_type": "code",
   "execution_count": 38,
   "metadata": {},
   "outputs": [],
   "source": [
    "ridge_model=Ridge()"
   ]
  },
  {
   "cell_type": "code",
   "execution_count": 39,
   "metadata": {},
   "outputs": [
    {
     "data": {
      "text/plain": [
       "Ridge()"
      ]
     },
     "execution_count": 39,
     "metadata": {},
     "output_type": "execute_result"
    }
   ],
   "source": [
    "ridge_model.fit(extended_X_train, y_train)"
   ]
  },
  {
   "cell_type": "code",
   "execution_count": 40,
   "metadata": {},
   "outputs": [
    {
     "data": {
      "text/plain": [
       "0.9262968508301734"
      ]
     },
     "execution_count": 40,
     "metadata": {},
     "output_type": "execute_result"
    }
   ],
   "source": [
    "ridge_model.score(extended_X_train, y_train)"
   ]
  },
  {
   "cell_type": "code",
   "execution_count": 41,
   "metadata": {},
   "outputs": [
    {
     "data": {
      "text/plain": [
       "0.8083262216735813"
      ]
     },
     "execution_count": 41,
     "metadata": {},
     "output_type": "execute_result"
    }
   ],
   "source": [
    "ridge_model.score(extended_X_test, y_test)"
   ]
  },
  {
   "cell_type": "code",
   "execution_count": 42,
   "metadata": {},
   "outputs": [
    {
     "data": {
      "text/plain": [
       "array([0.65974159, 0.73753643, 0.86661874, 0.28512894, 0.69781453])"
      ]
     },
     "execution_count": 42,
     "metadata": {},
     "output_type": "execute_result"
    }
   ],
   "source": [
    "result3=cross_val_score(ridge_model, extended_X_train, y_train, cv=5)\n",
    "result3"
   ]
  },
  {
   "cell_type": "code",
   "execution_count": 43,
   "metadata": {},
   "outputs": [
    {
     "data": {
      "text/plain": [
       "0.6493680451418055"
      ]
     },
     "execution_count": 43,
     "metadata": {},
     "output_type": "execute_result"
    }
   ],
   "source": [
    "result3.mean()"
   ]
  },
  {
   "cell_type": "code",
   "execution_count": null,
   "metadata": {},
   "outputs": [],
   "source": []
  },
  {
   "cell_type": "markdown",
   "metadata": {},
   "source": [
    "##### Lasso\n",
    "- L1 규제 사용.\n",
    "- 특성들이 0이 될 수 있다. -> 특성 선택 가능!"
   ]
  },
  {
   "cell_type": "code",
   "execution_count": 44,
   "metadata": {},
   "outputs": [],
   "source": [
    "from sklearn.linear_model import Lasso"
   ]
  },
  {
   "cell_type": "code",
   "execution_count": 45,
   "metadata": {},
   "outputs": [],
   "source": [
    "lasso_model = Lasso()"
   ]
  },
  {
   "cell_type": "code",
   "execution_count": 46,
   "metadata": {},
   "outputs": [
    {
     "name": "stderr",
     "output_type": "stream",
     "text": [
      "C:\\Users\\smhrd\\anaconda3\\lib\\site-packages\\sklearn\\linear_model\\_coordinate_descent.py:530: ConvergenceWarning: Objective did not converge. You might want to increase the number of iterations. Duality gap: 2035.3839035024712, tolerance: 2.842780779661017\n",
      "  model = cd_fast.enet_coordinate_descent(\n"
     ]
    },
    {
     "data": {
      "text/plain": [
       "Lasso()"
      ]
     },
     "execution_count": 46,
     "metadata": {},
     "output_type": "execute_result"
    }
   ],
   "source": [
    "lasso_model.fit(extended_X_train, y_train)"
   ]
  },
  {
   "cell_type": "code",
   "execution_count": 47,
   "metadata": {},
   "outputs": [
    {
     "data": {
      "text/plain": [
       "0.8697046586457671"
      ]
     },
     "execution_count": 47,
     "metadata": {},
     "output_type": "execute_result"
    }
   ],
   "source": [
    "lasso_model.score(extended_X_train, y_train)"
   ]
  },
  {
   "cell_type": "code",
   "execution_count": 48,
   "metadata": {},
   "outputs": [
    {
     "data": {
      "text/plain": [
       "0.8638548920944312"
      ]
     },
     "execution_count": 48,
     "metadata": {},
     "output_type": "execute_result"
    }
   ],
   "source": [
    "lasso_model.score(extended_X_test, y_test)"
   ]
  },
  {
   "cell_type": "code",
   "execution_count": 49,
   "metadata": {},
   "outputs": [
    {
     "name": "stderr",
     "output_type": "stream",
     "text": [
      "C:\\Users\\smhrd\\anaconda3\\lib\\site-packages\\sklearn\\linear_model\\_coordinate_descent.py:530: ConvergenceWarning: Objective did not converge. You might want to increase the number of iterations. Duality gap: 1242.5265562491659, tolerance: 2.282923519434629\n",
      "  model = cd_fast.enet_coordinate_descent(\n",
      "C:\\Users\\smhrd\\anaconda3\\lib\\site-packages\\sklearn\\linear_model\\_coordinate_descent.py:530: ConvergenceWarning: Objective did not converge. You might want to increase the number of iterations. Duality gap: 1729.844547424443, tolerance: 2.2959572367491163\n",
      "  model = cd_fast.enet_coordinate_descent(\n",
      "C:\\Users\\smhrd\\anaconda3\\lib\\site-packages\\sklearn\\linear_model\\_coordinate_descent.py:530: ConvergenceWarning: Objective did not converge. You might want to increase the number of iterations. Duality gap: 1747.3272635236083, tolerance: 2.170707667844523\n",
      "  model = cd_fast.enet_coordinate_descent(\n",
      "C:\\Users\\smhrd\\anaconda3\\lib\\site-packages\\sklearn\\linear_model\\_coordinate_descent.py:530: ConvergenceWarning: Objective did not converge. You might want to increase the number of iterations. Duality gap: 1556.005021418713, tolerance: 2.388617462897527\n",
      "  model = cd_fast.enet_coordinate_descent(\n",
      "C:\\Users\\smhrd\\anaconda3\\lib\\site-packages\\sklearn\\linear_model\\_coordinate_descent.py:530: ConvergenceWarning: Objective did not converge. You might want to increase the number of iterations. Duality gap: 1557.9910265316616, tolerance: 2.2288951654929576\n",
      "  model = cd_fast.enet_coordinate_descent(\n"
     ]
    },
    {
     "data": {
      "text/plain": [
       "array([0.65669815, 0.7966571 , 0.86863218, 0.7534311 , 0.81975889])"
      ]
     },
     "execution_count": 49,
     "metadata": {},
     "output_type": "execute_result"
    }
   ],
   "source": [
    "result4 = cross_val_score(lasso_model, extended_X_train, y_train, cv=5)\n",
    "result4"
   ]
  },
  {
   "cell_type": "code",
   "execution_count": 50,
   "metadata": {},
   "outputs": [],
   "source": [
    "import warnings\n",
    "warnings.filterwarnings(action='ignore') # 경고무시"
   ]
  },
  {
   "cell_type": "code",
   "execution_count": 51,
   "metadata": {},
   "outputs": [
    {
     "data": {
      "text/plain": [
       "0.7790354831156533"
      ]
     },
     "execution_count": 51,
     "metadata": {},
     "output_type": "execute_result"
    }
   ],
   "source": [
    "result4.mean()"
   ]
  },
  {
   "cell_type": "code",
   "execution_count": null,
   "metadata": {},
   "outputs": [],
   "source": []
  },
  {
   "cell_type": "markdown",
   "metadata": {},
   "source": [
    "\n",
    "##### Ridge, Lasso 규제 강도 조절"
   ]
  },
  {
   "cell_type": "code",
   "execution_count": 52,
   "metadata": {},
   "outputs": [],
   "source": [
    "# 규제 강도\n",
    "alpha_list = [0.001, 0.01, 0.1, 1, 10, 100, 1000]\n",
    "\n",
    "ridge_coef_list = []\n",
    "lasso_coef_list = []\n",
    "\n",
    "for a in alpha_list:\n",
    "    r_model = Ridge(alpha=a)\n",
    "    l_model = Lasso(alpha=a)\n",
    "    \n",
    "    r_model.fit(X_train, y_train)\n",
    "    l_model.fit(X_train, y_train)\n",
    "    \n",
    "    ridge_coef_list.append(r_model.coef_)\n",
    "    lasso_coef_list.append(l_model.coef_)"
   ]
  },
  {
   "cell_type": "code",
   "execution_count": 53,
   "metadata": {},
   "outputs": [
    {
     "data": {
      "text/plain": [
       "[array([-1.21533353e-01,  6.15406867e-02, -5.53637387e-02,  3.20216912e+00,\n",
       "        -1.76462777e+01,  2.92429551e+00,  4.80355134e-03, -1.64059034e+00,\n",
       "         3.69445402e-01, -1.11104050e-02, -8.40777859e-01,  1.12613898e-02,\n",
       "        -5.90834022e-01]),\n",
       " array([-1.21503866e-01,  6.15592397e-02, -5.60566824e-02,  3.19759968e+00,\n",
       "        -1.75013875e+01,  2.92616730e+00,  4.65329990e-03, -1.63871465e+00,\n",
       "         3.69103050e-01, -1.11183161e-02, -8.39120757e-01,  1.12729531e-02,\n",
       "        -5.90867057e-01]),\n",
       " array([-1.21236503e-01,  6.17308936e-02, -6.24064483e-02,  3.15461807e+00,\n",
       "        -1.61732096e+01,  2.94307496e+00,  3.27831889e-03, -1.62153108e+00,\n",
       "         3.65980121e-01, -1.11915081e-02, -8.23949633e-01,  1.13789023e-02,\n",
       "        -5.91189535e-01]),\n",
       " array([-1.19989996e-01,  6.27209571e-02, -9.56853271e-02,  2.86961738e+00,\n",
       "        -9.18875984e+00,  3.01788317e+00, -3.82074155e-03, -1.53171014e+00,\n",
       "         3.50398318e-01, -1.16130426e-02, -7.45217788e-01,  1.19329731e-02,\n",
       "        -5.93980530e-01]),\n",
       " array([-0.12074708,  0.0650622 , -0.13120058,  1.85302248, -1.71502772,\n",
       "         2.85909937, -0.00920285, -1.43869615,  0.3454411 , -0.01255086,\n",
       "        -0.6751266 ,  0.01243721, -0.61432517]),\n",
       " array([-0.12383694,  0.06836931, -0.14563162,  0.45612987, -0.17958764,\n",
       "         1.5894542 ,  0.00339762, -1.2963401 ,  0.38064694, -0.01408445,\n",
       "        -0.68787131,  0.01170949, -0.69895367]),\n",
       " array([-0.10524137,  0.05937009, -0.11734287,  0.0677886 , -0.01009322,\n",
       "         0.36399075,  0.03021664, -0.57049145,  0.3484038 , -0.01397997,\n",
       "        -0.46631139,  0.01039937, -0.74170131])]"
      ]
     },
     "execution_count": 53,
     "metadata": {},
     "output_type": "execute_result"
    }
   ],
   "source": [
    "ridge_coef_list"
   ]
  },
  {
   "cell_type": "code",
   "execution_count": 54,
   "metadata": {},
   "outputs": [
    {
     "data": {
      "text/plain": [
       "[array([-1.21450405e-01,  6.15887621e-02, -5.67355288e-02,  3.17660504e+00,\n",
       "        -1.73281237e+01,  2.92601768e+00,  4.50304521e-03, -1.63617954e+00,\n",
       "         3.68801751e-01, -1.11358190e-02, -8.37167758e-01,  1.12865884e-02,\n",
       "        -5.91129139e-01]),\n",
       " array([-1.20678715e-01,  6.20407134e-02, -6.97845850e-02,  2.94193570e+00,\n",
       "        -1.43191565e+01,  2.94339128e+00,  1.64682647e-03, -1.59461253e+00,\n",
       "         3.62672191e-01, -1.13726147e-02, -8.03011393e-01,  1.15249855e-02,\n",
       "        -5.93814709e-01]),\n",
       " array([-0.11657128,  0.06485916, -0.12464591,  0.91754904, -0.        ,\n",
       "         2.87862132, -0.0095072 , -1.3802952 ,  0.34099797, -0.01299041,\n",
       "        -0.64436203,  0.01263905, -0.62072554]),\n",
       " array([-0.07785366,  0.06735421, -0.09427696,  0.        , -0.        ,\n",
       "         0.14630209,  0.01779089, -0.93473128,  0.34042876, -0.01455767,\n",
       "        -0.53431178,  0.01044572, -0.79929341]),\n",
       " array([-0.        ,  0.03119669, -0.        ,  0.        , -0.        ,\n",
       "         0.        ,  0.        , -0.        ,  0.        , -0.00646147,\n",
       "        -0.        ,  0.00976194, -0.55223988]),\n",
       " array([-0.        ,  0.        , -0.        ,  0.        , -0.        ,\n",
       "         0.        , -0.        ,  0.        ,  0.        , -0.01885373,\n",
       "        -0.        ,  0.00606151, -0.        ]),\n",
       " array([-0.,  0., -0.,  0., -0.,  0., -0.,  0., -0., -0., -0.,  0., -0.])]"
      ]
     },
     "execution_count": 54,
     "metadata": {},
     "output_type": "execute_result"
    }
   ],
   "source": [
    "lasso_coef_list"
   ]
  },
  {
   "cell_type": "code",
   "execution_count": null,
   "metadata": {},
   "outputs": [],
   "source": []
  },
  {
   "cell_type": "code",
   "execution_count": 55,
   "metadata": {},
   "outputs": [
    {
     "data": {
      "text/html": [
       "<div>\n",
       "<style scoped>\n",
       "    .dataframe tbody tr th:only-of-type {\n",
       "        vertical-align: middle;\n",
       "    }\n",
       "\n",
       "    .dataframe tbody tr th {\n",
       "        vertical-align: top;\n",
       "    }\n",
       "\n",
       "    .dataframe thead th {\n",
       "        text-align: right;\n",
       "    }\n",
       "</style>\n",
       "<table border=\"1\" class=\"dataframe\">\n",
       "  <thead>\n",
       "    <tr style=\"text-align: right;\">\n",
       "      <th></th>\n",
       "      <th>0.001</th>\n",
       "      <th>0.010</th>\n",
       "      <th>0.100</th>\n",
       "      <th>1.000</th>\n",
       "      <th>10.000</th>\n",
       "      <th>100.000</th>\n",
       "      <th>1000.000</th>\n",
       "    </tr>\n",
       "  </thead>\n",
       "  <tbody>\n",
       "    <tr>\n",
       "      <th>0</th>\n",
       "      <td>-0.121533</td>\n",
       "      <td>-0.121504</td>\n",
       "      <td>-0.121237</td>\n",
       "      <td>-0.119990</td>\n",
       "      <td>-0.120747</td>\n",
       "      <td>-0.123837</td>\n",
       "      <td>-0.105241</td>\n",
       "    </tr>\n",
       "    <tr>\n",
       "      <th>1</th>\n",
       "      <td>0.061541</td>\n",
       "      <td>0.061559</td>\n",
       "      <td>0.061731</td>\n",
       "      <td>0.062721</td>\n",
       "      <td>0.065062</td>\n",
       "      <td>0.068369</td>\n",
       "      <td>0.059370</td>\n",
       "    </tr>\n",
       "    <tr>\n",
       "      <th>2</th>\n",
       "      <td>-0.055364</td>\n",
       "      <td>-0.056057</td>\n",
       "      <td>-0.062406</td>\n",
       "      <td>-0.095685</td>\n",
       "      <td>-0.131201</td>\n",
       "      <td>-0.145632</td>\n",
       "      <td>-0.117343</td>\n",
       "    </tr>\n",
       "    <tr>\n",
       "      <th>3</th>\n",
       "      <td>3.202169</td>\n",
       "      <td>3.197600</td>\n",
       "      <td>3.154618</td>\n",
       "      <td>2.869617</td>\n",
       "      <td>1.853022</td>\n",
       "      <td>0.456130</td>\n",
       "      <td>0.067789</td>\n",
       "    </tr>\n",
       "    <tr>\n",
       "      <th>4</th>\n",
       "      <td>-17.646278</td>\n",
       "      <td>-17.501388</td>\n",
       "      <td>-16.173210</td>\n",
       "      <td>-9.188760</td>\n",
       "      <td>-1.715028</td>\n",
       "      <td>-0.179588</td>\n",
       "      <td>-0.010093</td>\n",
       "    </tr>\n",
       "    <tr>\n",
       "      <th>5</th>\n",
       "      <td>2.924296</td>\n",
       "      <td>2.926167</td>\n",
       "      <td>2.943075</td>\n",
       "      <td>3.017883</td>\n",
       "      <td>2.859099</td>\n",
       "      <td>1.589454</td>\n",
       "      <td>0.363991</td>\n",
       "    </tr>\n",
       "    <tr>\n",
       "      <th>6</th>\n",
       "      <td>0.004804</td>\n",
       "      <td>0.004653</td>\n",
       "      <td>0.003278</td>\n",
       "      <td>-0.003821</td>\n",
       "      <td>-0.009203</td>\n",
       "      <td>0.003398</td>\n",
       "      <td>0.030217</td>\n",
       "    </tr>\n",
       "    <tr>\n",
       "      <th>7</th>\n",
       "      <td>-1.640590</td>\n",
       "      <td>-1.638715</td>\n",
       "      <td>-1.621531</td>\n",
       "      <td>-1.531710</td>\n",
       "      <td>-1.438696</td>\n",
       "      <td>-1.296340</td>\n",
       "      <td>-0.570491</td>\n",
       "    </tr>\n",
       "    <tr>\n",
       "      <th>8</th>\n",
       "      <td>0.369445</td>\n",
       "      <td>0.369103</td>\n",
       "      <td>0.365980</td>\n",
       "      <td>0.350398</td>\n",
       "      <td>0.345441</td>\n",
       "      <td>0.380647</td>\n",
       "      <td>0.348404</td>\n",
       "    </tr>\n",
       "    <tr>\n",
       "      <th>9</th>\n",
       "      <td>-0.011110</td>\n",
       "      <td>-0.011118</td>\n",
       "      <td>-0.011192</td>\n",
       "      <td>-0.011613</td>\n",
       "      <td>-0.012551</td>\n",
       "      <td>-0.014084</td>\n",
       "      <td>-0.013980</td>\n",
       "    </tr>\n",
       "    <tr>\n",
       "      <th>10</th>\n",
       "      <td>-0.840778</td>\n",
       "      <td>-0.839121</td>\n",
       "      <td>-0.823950</td>\n",
       "      <td>-0.745218</td>\n",
       "      <td>-0.675127</td>\n",
       "      <td>-0.687871</td>\n",
       "      <td>-0.466311</td>\n",
       "    </tr>\n",
       "    <tr>\n",
       "      <th>11</th>\n",
       "      <td>0.011261</td>\n",
       "      <td>0.011273</td>\n",
       "      <td>0.011379</td>\n",
       "      <td>0.011933</td>\n",
       "      <td>0.012437</td>\n",
       "      <td>0.011709</td>\n",
       "      <td>0.010399</td>\n",
       "    </tr>\n",
       "    <tr>\n",
       "      <th>12</th>\n",
       "      <td>-0.590834</td>\n",
       "      <td>-0.590867</td>\n",
       "      <td>-0.591190</td>\n",
       "      <td>-0.593981</td>\n",
       "      <td>-0.614325</td>\n",
       "      <td>-0.698954</td>\n",
       "      <td>-0.741701</td>\n",
       "    </tr>\n",
       "  </tbody>\n",
       "</table>\n",
       "</div>"
      ],
      "text/plain": [
       "     0.001      0.010      0.100     1.000     10.000    100.000   1000.000\n",
       "0   -0.121533  -0.121504  -0.121237 -0.119990 -0.120747 -0.123837 -0.105241\n",
       "1    0.061541   0.061559   0.061731  0.062721  0.065062  0.068369  0.059370\n",
       "2   -0.055364  -0.056057  -0.062406 -0.095685 -0.131201 -0.145632 -0.117343\n",
       "3    3.202169   3.197600   3.154618  2.869617  1.853022  0.456130  0.067789\n",
       "4  -17.646278 -17.501388 -16.173210 -9.188760 -1.715028 -0.179588 -0.010093\n",
       "5    2.924296   2.926167   2.943075  3.017883  2.859099  1.589454  0.363991\n",
       "6    0.004804   0.004653   0.003278 -0.003821 -0.009203  0.003398  0.030217\n",
       "7   -1.640590  -1.638715  -1.621531 -1.531710 -1.438696 -1.296340 -0.570491\n",
       "8    0.369445   0.369103   0.365980  0.350398  0.345441  0.380647  0.348404\n",
       "9   -0.011110  -0.011118  -0.011192 -0.011613 -0.012551 -0.014084 -0.013980\n",
       "10  -0.840778  -0.839121  -0.823950 -0.745218 -0.675127 -0.687871 -0.466311\n",
       "11   0.011261   0.011273   0.011379  0.011933  0.012437  0.011709  0.010399\n",
       "12  -0.590834  -0.590867  -0.591190 -0.593981 -0.614325 -0.698954 -0.741701"
      ]
     },
     "execution_count": 55,
     "metadata": {},
     "output_type": "execute_result"
    }
   ],
   "source": [
    "rid_df = pd.DataFrame(np.array(ridge_coef_list).T , columns=alpha_list)\n",
    "rid_df"
   ]
  },
  {
   "cell_type": "code",
   "execution_count": 56,
   "metadata": {},
   "outputs": [
    {
     "data": {
      "text/html": [
       "<div>\n",
       "<style scoped>\n",
       "    .dataframe tbody tr th:only-of-type {\n",
       "        vertical-align: middle;\n",
       "    }\n",
       "\n",
       "    .dataframe tbody tr th {\n",
       "        vertical-align: top;\n",
       "    }\n",
       "\n",
       "    .dataframe thead th {\n",
       "        text-align: right;\n",
       "    }\n",
       "</style>\n",
       "<table border=\"1\" class=\"dataframe\">\n",
       "  <thead>\n",
       "    <tr style=\"text-align: right;\">\n",
       "      <th></th>\n",
       "      <th>0.001</th>\n",
       "      <th>0.010</th>\n",
       "      <th>0.100</th>\n",
       "      <th>1.000</th>\n",
       "      <th>10.000</th>\n",
       "      <th>100.000</th>\n",
       "      <th>1000.000</th>\n",
       "    </tr>\n",
       "  </thead>\n",
       "  <tbody>\n",
       "    <tr>\n",
       "      <th>0</th>\n",
       "      <td>-0.121450</td>\n",
       "      <td>-0.120679</td>\n",
       "      <td>-0.116571</td>\n",
       "      <td>-0.077854</td>\n",
       "      <td>-0.000000</td>\n",
       "      <td>-0.000000</td>\n",
       "      <td>-0.0</td>\n",
       "    </tr>\n",
       "    <tr>\n",
       "      <th>1</th>\n",
       "      <td>0.061589</td>\n",
       "      <td>0.062041</td>\n",
       "      <td>0.064859</td>\n",
       "      <td>0.067354</td>\n",
       "      <td>0.031197</td>\n",
       "      <td>0.000000</td>\n",
       "      <td>0.0</td>\n",
       "    </tr>\n",
       "    <tr>\n",
       "      <th>2</th>\n",
       "      <td>-0.056736</td>\n",
       "      <td>-0.069785</td>\n",
       "      <td>-0.124646</td>\n",
       "      <td>-0.094277</td>\n",
       "      <td>-0.000000</td>\n",
       "      <td>-0.000000</td>\n",
       "      <td>-0.0</td>\n",
       "    </tr>\n",
       "    <tr>\n",
       "      <th>3</th>\n",
       "      <td>3.176605</td>\n",
       "      <td>2.941936</td>\n",
       "      <td>0.917549</td>\n",
       "      <td>0.000000</td>\n",
       "      <td>0.000000</td>\n",
       "      <td>0.000000</td>\n",
       "      <td>0.0</td>\n",
       "    </tr>\n",
       "    <tr>\n",
       "      <th>4</th>\n",
       "      <td>-17.328124</td>\n",
       "      <td>-14.319156</td>\n",
       "      <td>-0.000000</td>\n",
       "      <td>-0.000000</td>\n",
       "      <td>-0.000000</td>\n",
       "      <td>-0.000000</td>\n",
       "      <td>-0.0</td>\n",
       "    </tr>\n",
       "    <tr>\n",
       "      <th>5</th>\n",
       "      <td>2.926018</td>\n",
       "      <td>2.943391</td>\n",
       "      <td>2.878621</td>\n",
       "      <td>0.146302</td>\n",
       "      <td>0.000000</td>\n",
       "      <td>0.000000</td>\n",
       "      <td>0.0</td>\n",
       "    </tr>\n",
       "    <tr>\n",
       "      <th>6</th>\n",
       "      <td>0.004503</td>\n",
       "      <td>0.001647</td>\n",
       "      <td>-0.009507</td>\n",
       "      <td>0.017791</td>\n",
       "      <td>0.000000</td>\n",
       "      <td>-0.000000</td>\n",
       "      <td>-0.0</td>\n",
       "    </tr>\n",
       "    <tr>\n",
       "      <th>7</th>\n",
       "      <td>-1.636180</td>\n",
       "      <td>-1.594613</td>\n",
       "      <td>-1.380295</td>\n",
       "      <td>-0.934731</td>\n",
       "      <td>-0.000000</td>\n",
       "      <td>0.000000</td>\n",
       "      <td>0.0</td>\n",
       "    </tr>\n",
       "    <tr>\n",
       "      <th>8</th>\n",
       "      <td>0.368802</td>\n",
       "      <td>0.362672</td>\n",
       "      <td>0.340998</td>\n",
       "      <td>0.340429</td>\n",
       "      <td>0.000000</td>\n",
       "      <td>0.000000</td>\n",
       "      <td>-0.0</td>\n",
       "    </tr>\n",
       "    <tr>\n",
       "      <th>9</th>\n",
       "      <td>-0.011136</td>\n",
       "      <td>-0.011373</td>\n",
       "      <td>-0.012990</td>\n",
       "      <td>-0.014558</td>\n",
       "      <td>-0.006461</td>\n",
       "      <td>-0.018854</td>\n",
       "      <td>-0.0</td>\n",
       "    </tr>\n",
       "    <tr>\n",
       "      <th>10</th>\n",
       "      <td>-0.837168</td>\n",
       "      <td>-0.803011</td>\n",
       "      <td>-0.644362</td>\n",
       "      <td>-0.534312</td>\n",
       "      <td>-0.000000</td>\n",
       "      <td>-0.000000</td>\n",
       "      <td>-0.0</td>\n",
       "    </tr>\n",
       "    <tr>\n",
       "      <th>11</th>\n",
       "      <td>0.011287</td>\n",
       "      <td>0.011525</td>\n",
       "      <td>0.012639</td>\n",
       "      <td>0.010446</td>\n",
       "      <td>0.009762</td>\n",
       "      <td>0.006062</td>\n",
       "      <td>0.0</td>\n",
       "    </tr>\n",
       "    <tr>\n",
       "      <th>12</th>\n",
       "      <td>-0.591129</td>\n",
       "      <td>-0.593815</td>\n",
       "      <td>-0.620726</td>\n",
       "      <td>-0.799293</td>\n",
       "      <td>-0.552240</td>\n",
       "      <td>-0.000000</td>\n",
       "      <td>-0.0</td>\n",
       "    </tr>\n",
       "  </tbody>\n",
       "</table>\n",
       "</div>"
      ],
      "text/plain": [
       "     0.001      0.010     0.100     1.000     10.000    100.000   1000.000\n",
       "0   -0.121450  -0.120679 -0.116571 -0.077854 -0.000000 -0.000000      -0.0\n",
       "1    0.061589   0.062041  0.064859  0.067354  0.031197  0.000000       0.0\n",
       "2   -0.056736  -0.069785 -0.124646 -0.094277 -0.000000 -0.000000      -0.0\n",
       "3    3.176605   2.941936  0.917549  0.000000  0.000000  0.000000       0.0\n",
       "4  -17.328124 -14.319156 -0.000000 -0.000000 -0.000000 -0.000000      -0.0\n",
       "5    2.926018   2.943391  2.878621  0.146302  0.000000  0.000000       0.0\n",
       "6    0.004503   0.001647 -0.009507  0.017791  0.000000 -0.000000      -0.0\n",
       "7   -1.636180  -1.594613 -1.380295 -0.934731 -0.000000  0.000000       0.0\n",
       "8    0.368802   0.362672  0.340998  0.340429  0.000000  0.000000      -0.0\n",
       "9   -0.011136  -0.011373 -0.012990 -0.014558 -0.006461 -0.018854      -0.0\n",
       "10  -0.837168  -0.803011 -0.644362 -0.534312 -0.000000 -0.000000      -0.0\n",
       "11   0.011287   0.011525  0.012639  0.010446  0.009762  0.006062       0.0\n",
       "12  -0.591129  -0.593815 -0.620726 -0.799293 -0.552240 -0.000000      -0.0"
      ]
     },
     "execution_count": 56,
     "metadata": {},
     "output_type": "execute_result"
    }
   ],
   "source": [
    "lasso_df = pd.DataFrame(np.array(lasso_coef_list).T , columns=alpha_list)\n",
    "lasso_df"
   ]
  },
  {
   "cell_type": "code",
   "execution_count": null,
   "metadata": {},
   "outputs": [],
   "source": []
  },
  {
   "cell_type": "markdown",
   "metadata": {},
   "source": [
    "##### 결정 트리 회귀 모형 (20220503수업)"
   ]
  },
  {
   "cell_type": "code",
   "execution_count": 64,
   "metadata": {},
   "outputs": [],
   "source": [
    "from sklearn.tree import DecisionTreeRegressor\n",
    "from sklearn.ensemble import RandomForestRegressor\n",
    "from sklearn.model_selection import GridSearchCV"
   ]
  },
  {
   "cell_type": "code",
   "execution_count": 59,
   "metadata": {},
   "outputs": [],
   "source": [
    "# 회귀 트리 모델 생성\n",
    "tree_reg = DecisionTreeRegressor(max_depth=5)"
   ]
  },
  {
   "cell_type": "code",
   "execution_count": 60,
   "metadata": {},
   "outputs": [
    {
     "data": {
      "text/plain": [
       "DecisionTreeRegressor(max_depth=5)"
      ]
     },
     "execution_count": 60,
     "metadata": {},
     "output_type": "execute_result"
    }
   ],
   "source": [
    "# 학습\n",
    "tree_reg.fit(X_train, y_train)"
   ]
  },
  {
   "cell_type": "code",
   "execution_count": 67,
   "metadata": {},
   "outputs": [],
   "source": [
    "# Grid_search\n",
    "tree_reg1 = DecisionTreeRegressor()\n",
    "\n",
    "params = {'max_depth' : [3,5,7],\n",
    "          'max_leaf_nodes' : [4,6,8],\n",
    "          'min_samples_split' : [4,6,8]}\n",
    "grid = GridSearchCV(tree_reg1, params, cv=5)"
   ]
  },
  {
   "cell_type": "code",
   "execution_count": 68,
   "metadata": {},
   "outputs": [
    {
     "data": {
      "text/plain": [
       "GridSearchCV(cv=5, estimator=DecisionTreeRegressor(),\n",
       "             param_grid={'max_depth': [3, 5, 7], 'max_leaf_nodes': [4, 6, 8],\n",
       "                         'min_samples_split': [4, 6, 8]})"
      ]
     },
     "execution_count": 68,
     "metadata": {},
     "output_type": "execute_result"
    }
   ],
   "source": [
    "grid.fit(X_train, y_train)"
   ]
  },
  {
   "cell_type": "code",
   "execution_count": 69,
   "metadata": {},
   "outputs": [
    {
     "data": {
      "text/plain": [
       "0.7177833693249847"
      ]
     },
     "execution_count": 69,
     "metadata": {},
     "output_type": "execute_result"
    }
   ],
   "source": [
    "grid.best_score_"
   ]
  },
  {
   "cell_type": "code",
   "execution_count": 70,
   "metadata": {},
   "outputs": [
    {
     "data": {
      "text/plain": [
       "{'max_depth': 5, 'max_leaf_nodes': 8, 'min_samples_split': 6}"
      ]
     },
     "execution_count": 70,
     "metadata": {},
     "output_type": "execute_result"
    }
   ],
   "source": [
    "grid.best_params_"
   ]
  },
  {
   "cell_type": "code",
   "execution_count": null,
   "metadata": {},
   "outputs": [],
   "source": []
  },
  {
   "cell_type": "code",
   "execution_count": 71,
   "metadata": {},
   "outputs": [
    {
     "data": {
      "text/plain": [
       "GridSearchCV(cv=5, estimator=RandomForestRegressor(),\n",
       "             param_grid={'max_depth': [3, 5, 7], 'max_leaf_nodes': [4, 6, 8],\n",
       "                         'min_samples_split': [4, 6, 8],\n",
       "                         'n_estimators': [50, 100, 150]})"
      ]
     },
     "execution_count": 71,
     "metadata": {},
     "output_type": "execute_result"
    }
   ],
   "source": [
    "# 랜덤포레스트 모델 가져오기\n",
    "rf_model = RandomForestRegressor()\n",
    "\n",
    "params = {'max_depth' : [3,5,7],\n",
    "          'max_leaf_nodes' : [4,6,8],\n",
    "          'min_samples_split' : [4,6,8],\n",
    "          'n_estimators' : [50, 100, 150]}\n",
    "grid = GridSearchCV(rf_model, params, cv=5)\n",
    "grid.fit(X_train, y_train)"
   ]
  },
  {
   "cell_type": "code",
   "execution_count": 72,
   "metadata": {},
   "outputs": [
    {
     "data": {
      "text/plain": [
       "0.8004054593178591"
      ]
     },
     "execution_count": 72,
     "metadata": {},
     "output_type": "execute_result"
    }
   ],
   "source": [
    "grid.best_score_"
   ]
  },
  {
   "cell_type": "code",
   "execution_count": 73,
   "metadata": {},
   "outputs": [
    {
     "data": {
      "text/plain": [
       "{'max_depth': 7,\n",
       " 'max_leaf_nodes': 8,\n",
       " 'min_samples_split': 4,\n",
       " 'n_estimators': 50}"
      ]
     },
     "execution_count": 73,
     "metadata": {},
     "output_type": "execute_result"
    }
   ],
   "source": [
    "grid.best_params_"
   ]
  },
  {
   "cell_type": "code",
   "execution_count": 74,
   "metadata": {},
   "outputs": [],
   "source": [
    "# 가장 좋은 성능의 모델\n",
    "best_rf = grid.best_estimator_"
   ]
  },
  {
   "cell_type": "code",
   "execution_count": 79,
   "metadata": {},
   "outputs": [
    {
     "data": {
      "text/plain": [
       "array([22.45211135, 20.90637272, 21.03830767, 20.67782479, 14.90045191,\n",
       "       22.45211135, 20.67782479, 24.0926424 , 18.33845478, 13.12123633,\n",
       "       20.79607063, 27.67909743, 20.92204982, 32.85753478, 20.95183217,\n",
       "       40.11139982, 17.30805537, 26.37647528, 43.14292851, 23.26740771,\n",
       "       20.599445  , 33.58691312, 20.599445  , 45.65589493, 22.45211135,\n",
       "       19.30495179, 17.38712481, 12.68739435, 23.49300871, 12.48812183,\n",
       "       18.73729501, 15.40168332, 29.97642686, 35.91829091, 20.67782479,\n",
       "       16.89568708, 12.68739435, 23.37942547, 14.02170142, 17.30805537,\n",
       "       14.91719107, 20.599445  , 12.39779604, 40.15419546, 20.599445  ,\n",
       "       15.51587023, 20.599445  , 18.95462471, 15.51587023, 20.90637272,\n",
       "       32.17517645, 26.43007837, 17.11301678, 17.09072567, 14.71707084,\n",
       "       14.02170142, 32.37663022, 20.90021076, 24.1225585 , 38.89513951,\n",
       "       18.39729701, 17.17056928, 25.06207716, 18.8258563 , 18.38929558,\n",
       "       23.32566844, 20.84367003, 11.78415349, 16.45148317, 20.89928045,\n",
       "       24.90255153, 15.29711327, 19.68854135, 20.68342725, 17.61408398,\n",
       "       31.52296832, 21.11456972, 22.24034377, 20.67782479, 29.37779532,\n",
       "       22.69633638, 15.51587023, 22.45211135, 26.56672611, 32.33850611,\n",
       "       23.37942547, 15.68641743, 44.15378496, 30.96643086, 20.67782479,\n",
       "       33.84015166, 11.78415349, 23.32566844, 20.599445  , 24.44270275,\n",
       "       25.44218189, 17.17056928, 20.92204982, 22.81458222, 32.46573593,\n",
       "       12.57011901, 18.62764218, 23.38565355, 17.23465758, 37.86472087,\n",
       "       31.07964151, 18.95462471, 14.13135425, 38.05483129, 22.90123967,\n",
       "       20.50929759, 24.83177409, 45.25233874, 15.51587023, 17.17056928,\n",
       "       11.87447928, 30.42682887, 23.46608291, 25.20171054, 27.01915127,\n",
       "       26.63392313, 15.00191945, 23.88215425, 23.49300871, 15.60619602,\n",
       "       17.71393753, 17.34723581, 20.73220753, 26.93412598, 14.02170142,\n",
       "       43.88318112, 14.13135425, 23.19106177, 17.16467186, 20.84367003,\n",
       "       23.49300871, 25.9810187 , 15.7860533 , 22.45211135, 31.85927755,\n",
       "       18.95462471, 44.96890261, 16.25590998, 17.45198728, 45.25233874,\n",
       "       11.89380632, 11.78415349, 23.76390841, 20.599445  , 27.50114056,\n",
       "       11.78415349, 33.4023539 ])"
      ]
     },
     "execution_count": 79,
     "metadata": {},
     "output_type": "execute_result"
    }
   ],
   "source": [
    "# 예측값\n",
    "pre_rf = best_rf.predict(X_test)\n",
    "pre_rf"
   ]
  },
  {
   "cell_type": "code",
   "execution_count": 81,
   "metadata": {},
   "outputs": [
    {
     "data": {
      "text/plain": [
       "array([22.45211135, 32.91025462, 12.65530341, 31.36697016, 11.78415349,\n",
       "       23.08548192, 15.30070793, 20.599445  , 32.22013405, 15.60619602,\n",
       "       11.78415349, 29.47562681, 24.17504537, 20.84367003, 20.90637272,\n",
       "       23.53568658, 15.78855889, 45.75866505, 15.22809588, 20.599445  ,\n",
       "       20.599445  , 24.18108494, 25.33165542, 11.78415349, 24.46517849,\n",
       "       32.45859598, 18.8258563 , 14.02170142, 13.75325411, 31.08559867,\n",
       "       20.67782479, 20.67782479, 20.599445  , 15.48200764, 16.07565161,\n",
       "       20.67782479, 20.14050637, 43.15708031, 23.65032517, 26.5928921 ,\n",
       "       23.38565355, 34.01384503, 12.80233187, 20.92204982, 12.48812183,\n",
       "       22.90123967, 16.41160936, 24.02239151, 12.3846799 , 33.72671706,\n",
       "       15.51587023, 28.26023002, 17.45198728, 13.10780548, 11.78415349,\n",
       "       15.89335975, 20.599445  , 32.60027012, 12.39779604, 16.8017491 ,\n",
       "       32.83878557, 15.92892745, 14.79277504, 18.95462471, 17.38712481,\n",
       "       26.40331339, 17.30805537, 17.17056928, 22.99617183, 28.47198969,\n",
       "       44.56951308, 22.96723608, 20.93032747, 18.73729501, 20.67782479,\n",
       "       20.599445  , 30.12362022, 16.60047382, 22.45211135, 23.65032517,\n",
       "       12.39779604, 11.78415349, 32.46065512, 22.57035719, 24.47488082,\n",
       "       26.07576505, 19.30495179, 23.32566844, 20.67782479, 24.92887437,\n",
       "       20.599445  , 20.599445  , 26.27457837, 23.44391428, 25.43316369,\n",
       "       22.69000626, 21.11456972, 20.92204982, 20.67782479, 20.599445  ,\n",
       "       26.03346643, 23.49300871, 25.81095573, 14.02298835, 14.94316425,\n",
       "       23.49300871, 22.75148758, 20.599445  , 20.599445  , 24.30087661,\n",
       "       16.97307553, 22.62871467, 18.8258563 , 23.46608291, 23.26740771,\n",
       "       18.95462471, 32.46065512, 15.5477067 , 20.67782479, 44.33450258,\n",
       "       22.45211135, 44.13767844, 20.599445  , 23.76390841, 24.19198674,\n",
       "       20.67782479, 11.78415349, 22.45211135, 20.67782479, 28.45793813,\n",
       "       21.04029566, 15.51587023, 42.51524553, 18.39729701, 44.37986056,\n",
       "       15.09726525, 22.45211135, 20.84367003, 41.43576905, 14.2469878 ,\n",
       "       11.87447928, 13.18376157, 15.5477067 , 30.74569064, 20.599445  ,\n",
       "       45.04267975, 14.02170142, 20.73220753, 44.11856574, 44.03917937,\n",
       "       32.46573593, 18.29570621, 16.75960879, 27.99730053, 21.00870727,\n",
       "       24.17504537, 20.67782479, 43.59573827, 26.04720433, 32.09171387,\n",
       "       13.74363819, 11.78415349, 12.6604448 , 18.60662528, 11.78415349,\n",
       "       20.599445  , 21.70976635, 20.67782479, 34.17897515, 11.78415349,\n",
       "       43.88318112, 16.02169095, 17.17056928, 21.46272703, 20.599445  ,\n",
       "       12.50426883, 13.21156212, 11.78415349, 11.78415349, 20.599445  ,\n",
       "       22.23444131, 39.37753061, 23.53830741, 16.20122268, 15.51587023,\n",
       "       23.76390841, 22.87026253, 26.95825127, 20.90637272, 22.45211135,\n",
       "       23.57966616, 20.88414107, 22.19999289, 31.09126356, 29.57673917,\n",
       "       11.78415349, 16.41160936, 32.64834598, 20.599445  , 24.26751989,\n",
       "       18.95462471, 17.33135288, 11.78415349, 22.45211135, 34.33013478,\n",
       "       14.2469878 , 15.60619602, 27.74803968, 23.2666123 , 31.66891787,\n",
       "       20.599445  , 17.17056928, 22.45211135, 27.25688451, 15.07277488,\n",
       "       20.92204982, 21.14350548, 20.599445  , 18.10010818, 15.51587023,\n",
       "       11.78415349, 32.01767615, 15.7733776 , 17.15217131, 18.73729501,\n",
       "       32.49738705, 20.67782479, 21.00870727, 23.49300871, 22.45211135,\n",
       "       11.87447928, 22.57176042, 20.84367003, 20.60485909, 23.26740771,\n",
       "       20.67782479, 22.81598545, 22.45211135, 22.78299383, 14.80766694,\n",
       "       16.45374967, 23.37942547, 18.50307598, 25.87189049, 40.50895077,\n",
       "       20.92204982, 20.67782479, 17.45198728, 26.32789285, 20.72711888,\n",
       "       20.67782479, 25.31179235, 16.05140551, 25.2239964 , 20.599445  ,\n",
       "       20.26507256, 27.59753194, 20.92204982, 21.11456972, 32.73166298,\n",
       "       23.37942547, 23.72572726, 14.02170142, 23.32566844, 18.8258563 ,\n",
       "       20.84367003, 25.58675788, 18.8258563 , 20.67782479, 17.17056928,\n",
       "       44.79879178, 19.90798534, 21.19294952, 22.96723608, 20.92204982,\n",
       "       40.39728709, 22.78299383, 27.43028823, 19.91750309, 29.15635129,\n",
       "       29.83048533, 34.02118746, 23.08548192, 25.57190571, 20.67782479,\n",
       "       23.99080312, 12.82762638, 35.04822735, 16.48625197, 20.73220753,\n",
       "       20.599445  , 44.3378977 , 32.57486414, 20.599445  , 16.02169095,\n",
       "       11.78415349, 17.30805537, 31.89180436, 20.599445  , 20.44275178,\n",
       "       22.78299383, 34.0514457 , 18.95462471, 32.06327517, 20.92204982,\n",
       "       15.20794443, 17.09072567, 20.92204982, 27.88861907, 20.599445  ,\n",
       "       22.57176042, 12.39779604, 17.17056928, 25.07531912, 14.48184694,\n",
       "       22.45211135, 20.76180704, 15.48200764, 16.77277151, 18.95462471,\n",
       "       12.74646864, 20.92204982, 26.52051178, 14.94847442, 32.92658828,\n",
       "       12.39779604, 20.97643256, 29.21318568, 12.39779604, 11.78415349,\n",
       "       23.697912  , 32.35152691, 20.96191587, 42.64825567, 23.26740771,\n",
       "       22.45211135, 20.85045337, 32.33434308, 11.78415349, 44.12957959,\n",
       "       22.69633638, 25.8255187 , 18.71627811, 13.75325411, 20.67782479,\n",
       "       15.60619602, 18.95462471, 24.84168349, 44.80451308, 14.02170142,\n",
       "       11.78415349, 20.67782479, 14.22168004, 23.37942547])"
      ]
     },
     "execution_count": 81,
     "metadata": {},
     "output_type": "execute_result"
    }
   ],
   "source": [
    "pre_rf_train = best_rf.predict(X_train)\n",
    "pre_rf_train"
   ]
  },
  {
   "cell_type": "code",
   "execution_count": 76,
   "metadata": {},
   "outputs": [
    {
     "data": {
      "text/plain": [
       "0.8753627494175122"
      ]
     },
     "execution_count": 76,
     "metadata": {},
     "output_type": "execute_result"
    }
   ],
   "source": [
    "best_rf.score(X_train, y_train)"
   ]
  },
  {
   "cell_type": "code",
   "execution_count": 77,
   "metadata": {},
   "outputs": [],
   "source": [
    "from sklearn.metrics import mean_squared_error"
   ]
  },
  {
   "cell_type": "code",
   "execution_count": 82,
   "metadata": {},
   "outputs": [
    {
     "name": "stdout",
     "output_type": "stream",
     "text": [
      "10.008937299030793\n",
      "14.075819159311289\n"
     ]
    }
   ],
   "source": [
    "# MSE(평균제곱오차)\n",
    "# 예측값과 실제값의 차이 이용\n",
    "print(mean_squared_error(pre_rf_train, y_train))\n",
    "print(mean_squared_error(pre_rf, y_test)) #(예측값, 실제값)"
   ]
  }
 ],
 "metadata": {
  "interpreter": {
   "hash": "2adc616a9ec4839c7f1fe60e04849202ab99f5dc063daf9b67f34155bad8a539"
  },
  "kernelspec": {
   "display_name": "Python 3.9.7 ('base')",
   "language": "python",
   "name": "python3"
  },
  "language_info": {
   "codemirror_mode": {
    "name": "ipython",
    "version": 3
   },
   "file_extension": ".py",
   "mimetype": "text/x-python",
   "name": "python",
   "nbconvert_exporter": "python",
   "pygments_lexer": "ipython3",
   "version": "3.9.7"
  },
  "orig_nbformat": 4
 },
 "nbformat": 4,
 "nbformat_minor": 2
}
